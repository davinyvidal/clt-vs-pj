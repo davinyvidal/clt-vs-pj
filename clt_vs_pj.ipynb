{
 "cells": [
  {
   "cell_type": "markdown",
   "metadata": {},
   "source": [
    "# CLT vs PJ"
   ]
  },
  {
   "cell_type": "code",
   "execution_count": 1,
   "metadata": {},
   "outputs": [],
   "source": [
    "%matplotlib inline\n",
    "import matplotlib.pyplot as plt\n",
    "import pandas as pd"
   ]
  },
  {
   "cell_type": "markdown",
   "metadata": {},
   "source": [
    "## Cálculos CLT"
   ]
  },
  {
   "cell_type": "markdown",
   "metadata": {},
   "source": [
    "### Cálculos Mensais"
   ]
  },
  {
   "cell_type": "code",
   "execution_count": 2,
   "metadata": {
    "pycharm": {
     "is_executing": false,
     "metadata": false,
     "name": "#%%\n"
    }
   },
   "outputs": [],
   "source": [
    "salario_mensal_bruto=[1_903.98, 2_826.66, 3_751.06, 4_664.68, 9_000, 15_000, 25_000, 30_000]\n"
   ]
  },
  {
   "cell_type": "code",
   "execution_count": 3,
   "metadata": {
    "pycharm": {
     "is_executing": false
    }
   },
   "outputs": [],
   "source": [
    "def mostrar_descontos_mensais(funcao):\n",
    "    \"\"\"\n",
    "    Formata saída para mostrar descontos mensais em formato de tabela\n",
    "    \"\"\"\n",
    "    results =  [(f'{salario:,.2f}', f'{funcao(salario):,.2f}', f'{funcao(salario) / salario:.2%}') for salario in salario_mensal_bruto]\n",
    "    df = pd.DataFrame(results, columns=[\"Salário\",\"Imposto Descontado\",\"Porcentagem\"])\n",
    "    return df"
   ]
  },
  {
   "cell_type": "code",
   "execution_count": 4,
   "metadata": {
    "pycharm": {
     "is_executing": false
    }
   },
   "outputs": [],
   "source": [
    "def imposto_de_renda_mensal(salario_mensal:float) -> float:\n",
    "    \"\"\"\n",
    "    Calcula imposto de renda PF de acordo com faixa do ano de 2019\n",
    "    https://impostoderenda2019.net.br/tabela-imposto-de-renda-2019/\n",
    "    \n",
    "    \"\"\"\n",
    "    saldo = salario_mensal\n",
    "    aliquotas_faixas = {0.275: 4_664.68, 0.225: 3_751.06, 0.15: 2_826.66, 0.075: 1_903.98, 0: 0}\n",
    "    ir = 0\n",
    "    desconto_simplificado = 0.20  # 20% de desconto simplificado\n",
    "    for aliquota, faixa in aliquotas_faixas.items():\n",
    "        delta = max(saldo - faixa, 0)\n",
    "        ir += delta * aliquota * (1 - desconto_simplificado)\n",
    "        saldo = min(saldo, faixa)\n",
    "    return ir\n"
   ]
  },
  {
   "cell_type": "markdown",
   "metadata": {},
   "source": [
    "Para o cálculo do imposto de renda, foi usada a [tabela desse site](https://impostoderenda2019.net.br/tabela-imposto-de-renda-2019/), que está reproduzida abaixo:\n",
    "\n",
    "| Base de Cálculo | Alíquota |\n",
    "| --------------- | -------- |\n",
    "|`De R$1.903,99 até R$2.826,65` | 7,5% |\n",
    "|`De R$2.826,66 até R$3.751,05` | 15% | \n",
    "|`De R$3.751,06 até R$4.664,68` | 22,5% | \n",
    "|`Acima de R$4.664,68` | 27,5% |"
   ]
  },
  {
   "cell_type": "markdown",
   "metadata": {},
   "source": [
    "Em seguida exibimos o salário, quanto foi descontado e o percentual real retido pelo imposto considerando o desconto simplificado."
   ]
  },
  {
   "cell_type": "code",
   "execution_count": 5,
   "metadata": {
    "pycharm": {
     "is_executing": false
    }
   },
   "outputs": [
    {
     "data": {
      "text/html": [
       "<div>\n",
       "<style scoped>\n",
       "    .dataframe tbody tr th:only-of-type {\n",
       "        vertical-align: middle;\n",
       "    }\n",
       "\n",
       "    .dataframe tbody tr th {\n",
       "        vertical-align: top;\n",
       "    }\n",
       "\n",
       "    .dataframe thead th {\n",
       "        text-align: right;\n",
       "    }\n",
       "</style>\n",
       "<table border=\"1\" class=\"dataframe\">\n",
       "  <thead>\n",
       "    <tr style=\"text-align: right;\">\n",
       "      <th></th>\n",
       "      <th>Salário</th>\n",
       "      <th>Imposto Descontado</th>\n",
       "      <th>Porcentagem</th>\n",
       "    </tr>\n",
       "  </thead>\n",
       "  <tbody>\n",
       "    <tr>\n",
       "      <th>0</th>\n",
       "      <td>1,903.98</td>\n",
       "      <td>0.00</td>\n",
       "      <td>0.00%</td>\n",
       "    </tr>\n",
       "    <tr>\n",
       "      <th>1</th>\n",
       "      <td>2,826.66</td>\n",
       "      <td>55.36</td>\n",
       "      <td>1.96%</td>\n",
       "    </tr>\n",
       "    <tr>\n",
       "      <th>2</th>\n",
       "      <td>3,751.06</td>\n",
       "      <td>166.29</td>\n",
       "      <td>4.43%</td>\n",
       "    </tr>\n",
       "    <tr>\n",
       "      <th>3</th>\n",
       "      <td>4,664.68</td>\n",
       "      <td>330.74</td>\n",
       "      <td>7.09%</td>\n",
       "    </tr>\n",
       "    <tr>\n",
       "      <th>4</th>\n",
       "      <td>9,000.00</td>\n",
       "      <td>1,284.51</td>\n",
       "      <td>14.27%</td>\n",
       "    </tr>\n",
       "    <tr>\n",
       "      <th>5</th>\n",
       "      <td>15,000.00</td>\n",
       "      <td>2,604.51</td>\n",
       "      <td>17.36%</td>\n",
       "    </tr>\n",
       "    <tr>\n",
       "      <th>6</th>\n",
       "      <td>25,000.00</td>\n",
       "      <td>4,804.51</td>\n",
       "      <td>19.22%</td>\n",
       "    </tr>\n",
       "    <tr>\n",
       "      <th>7</th>\n",
       "      <td>30,000.00</td>\n",
       "      <td>5,904.51</td>\n",
       "      <td>19.68%</td>\n",
       "    </tr>\n",
       "  </tbody>\n",
       "</table>\n",
       "</div>"
      ],
      "text/plain": [
       "     Salário Imposto Descontado Porcentagem\n",
       "0   1,903.98               0.00       0.00%\n",
       "1   2,826.66              55.36       1.96%\n",
       "2   3,751.06             166.29       4.43%\n",
       "3   4,664.68             330.74       7.09%\n",
       "4   9,000.00           1,284.51      14.27%\n",
       "5  15,000.00           2,604.51      17.36%\n",
       "6  25,000.00           4,804.51      19.22%\n",
       "7  30,000.00           5,904.51      19.68%"
      ]
     },
     "execution_count": 5,
     "metadata": {},
     "output_type": "execute_result"
    }
   ],
   "source": [
    "mostrar_descontos_mensais(imposto_de_renda_mensal)\n"
   ]
  },
  {
   "cell_type": "code",
   "execution_count": 6,
   "metadata": {
    "pycharm": {
     "is_executing": false
    }
   },
   "outputs": [],
   "source": [
    "def fgts_mensal(salario_mensal: float)-> float:\n",
    "    \"\"\"\n",
    "    Calcula fgts a ser pago de imposto pelo empregador em 1 ano. \n",
    "    Aliquota de 8% + 40% disso em caso de demissão com justa causa -> 11,2%\n",
    "    \n",
    "    \n",
    "    :param salario_mensal: salário mensal bruto do empregado\n",
    "    :return: float\n",
    "    \"\"\"\n",
    "    return salario_mensal * 0.112\n"
   ]
  },
  {
   "cell_type": "code",
   "execution_count": 7,
   "metadata": {
    "pycharm": {
     "is_executing": false
    }
   },
   "outputs": [
    {
     "data": {
      "text/html": [
       "<div>\n",
       "<style scoped>\n",
       "    .dataframe tbody tr th:only-of-type {\n",
       "        vertical-align: middle;\n",
       "    }\n",
       "\n",
       "    .dataframe tbody tr th {\n",
       "        vertical-align: top;\n",
       "    }\n",
       "\n",
       "    .dataframe thead th {\n",
       "        text-align: right;\n",
       "    }\n",
       "</style>\n",
       "<table border=\"1\" class=\"dataframe\">\n",
       "  <thead>\n",
       "    <tr style=\"text-align: right;\">\n",
       "      <th></th>\n",
       "      <th>Salário</th>\n",
       "      <th>Imposto Descontado</th>\n",
       "      <th>Porcentagem</th>\n",
       "    </tr>\n",
       "  </thead>\n",
       "  <tbody>\n",
       "    <tr>\n",
       "      <th>0</th>\n",
       "      <td>1,903.98</td>\n",
       "      <td>213.25</td>\n",
       "      <td>11.20%</td>\n",
       "    </tr>\n",
       "    <tr>\n",
       "      <th>1</th>\n",
       "      <td>2,826.66</td>\n",
       "      <td>316.59</td>\n",
       "      <td>11.20%</td>\n",
       "    </tr>\n",
       "    <tr>\n",
       "      <th>2</th>\n",
       "      <td>3,751.06</td>\n",
       "      <td>420.12</td>\n",
       "      <td>11.20%</td>\n",
       "    </tr>\n",
       "    <tr>\n",
       "      <th>3</th>\n",
       "      <td>4,664.68</td>\n",
       "      <td>522.44</td>\n",
       "      <td>11.20%</td>\n",
       "    </tr>\n",
       "    <tr>\n",
       "      <th>4</th>\n",
       "      <td>9,000.00</td>\n",
       "      <td>1,008.00</td>\n",
       "      <td>11.20%</td>\n",
       "    </tr>\n",
       "    <tr>\n",
       "      <th>5</th>\n",
       "      <td>15,000.00</td>\n",
       "      <td>1,680.00</td>\n",
       "      <td>11.20%</td>\n",
       "    </tr>\n",
       "    <tr>\n",
       "      <th>6</th>\n",
       "      <td>25,000.00</td>\n",
       "      <td>2,800.00</td>\n",
       "      <td>11.20%</td>\n",
       "    </tr>\n",
       "    <tr>\n",
       "      <th>7</th>\n",
       "      <td>30,000.00</td>\n",
       "      <td>3,360.00</td>\n",
       "      <td>11.20%</td>\n",
       "    </tr>\n",
       "  </tbody>\n",
       "</table>\n",
       "</div>"
      ],
      "text/plain": [
       "     Salário Imposto Descontado Porcentagem\n",
       "0   1,903.98             213.25      11.20%\n",
       "1   2,826.66             316.59      11.20%\n",
       "2   3,751.06             420.12      11.20%\n",
       "3   4,664.68             522.44      11.20%\n",
       "4   9,000.00           1,008.00      11.20%\n",
       "5  15,000.00           1,680.00      11.20%\n",
       "6  25,000.00           2,800.00      11.20%\n",
       "7  30,000.00           3,360.00      11.20%"
      ]
     },
     "execution_count": 7,
     "metadata": {},
     "output_type": "execute_result"
    }
   ],
   "source": [
    "mostrar_descontos_mensais(fgts_mensal)\n"
   ]
  },
  {
   "cell_type": "code",
   "execution_count": 8,
   "metadata": {
    "pycharm": {
     "is_executing": false
    }
   },
   "outputs": [],
   "source": [
    "def inss_empregado(salario_mensal):\n",
    "    \"\"\"\n",
    "    Calcula inss para 2019\n",
    "    :param salario_mensal: \n",
    "    :return: \n",
    "    \"\"\"\n",
    "    if salario_mensal < 1_751.81:\n",
    "        return salario_mensal * 0.08\n",
    "    elif salario_mensal < 2_919.72:\n",
    "        return salario_mensal * 0.09\n",
    "    \n",
    "    teto = 5_839.45\n",
    "    return min(salario_mensal, teto) * 0.11\n"
   ]
  },
  {
   "cell_type": "code",
   "execution_count": 9,
   "metadata": {
    "pycharm": {
     "is_executing": false
    }
   },
   "outputs": [
    {
     "data": {
      "text/html": [
       "<div>\n",
       "<style scoped>\n",
       "    .dataframe tbody tr th:only-of-type {\n",
       "        vertical-align: middle;\n",
       "    }\n",
       "\n",
       "    .dataframe tbody tr th {\n",
       "        vertical-align: top;\n",
       "    }\n",
       "\n",
       "    .dataframe thead th {\n",
       "        text-align: right;\n",
       "    }\n",
       "</style>\n",
       "<table border=\"1\" class=\"dataframe\">\n",
       "  <thead>\n",
       "    <tr style=\"text-align: right;\">\n",
       "      <th></th>\n",
       "      <th>Salário</th>\n",
       "      <th>Imposto Descontado</th>\n",
       "      <th>Porcentagem</th>\n",
       "    </tr>\n",
       "  </thead>\n",
       "  <tbody>\n",
       "    <tr>\n",
       "      <th>0</th>\n",
       "      <td>1,903.98</td>\n",
       "      <td>171.36</td>\n",
       "      <td>9.00%</td>\n",
       "    </tr>\n",
       "    <tr>\n",
       "      <th>1</th>\n",
       "      <td>2,826.66</td>\n",
       "      <td>254.40</td>\n",
       "      <td>9.00%</td>\n",
       "    </tr>\n",
       "    <tr>\n",
       "      <th>2</th>\n",
       "      <td>3,751.06</td>\n",
       "      <td>412.62</td>\n",
       "      <td>11.00%</td>\n",
       "    </tr>\n",
       "    <tr>\n",
       "      <th>3</th>\n",
       "      <td>4,664.68</td>\n",
       "      <td>513.11</td>\n",
       "      <td>11.00%</td>\n",
       "    </tr>\n",
       "    <tr>\n",
       "      <th>4</th>\n",
       "      <td>9,000.00</td>\n",
       "      <td>642.34</td>\n",
       "      <td>7.14%</td>\n",
       "    </tr>\n",
       "    <tr>\n",
       "      <th>5</th>\n",
       "      <td>15,000.00</td>\n",
       "      <td>642.34</td>\n",
       "      <td>4.28%</td>\n",
       "    </tr>\n",
       "    <tr>\n",
       "      <th>6</th>\n",
       "      <td>25,000.00</td>\n",
       "      <td>642.34</td>\n",
       "      <td>2.57%</td>\n",
       "    </tr>\n",
       "    <tr>\n",
       "      <th>7</th>\n",
       "      <td>30,000.00</td>\n",
       "      <td>642.34</td>\n",
       "      <td>2.14%</td>\n",
       "    </tr>\n",
       "  </tbody>\n",
       "</table>\n",
       "</div>"
      ],
      "text/plain": [
       "     Salário Imposto Descontado Porcentagem\n",
       "0   1,903.98             171.36       9.00%\n",
       "1   2,826.66             254.40       9.00%\n",
       "2   3,751.06             412.62      11.00%\n",
       "3   4,664.68             513.11      11.00%\n",
       "4   9,000.00             642.34       7.14%\n",
       "5  15,000.00             642.34       4.28%\n",
       "6  25,000.00             642.34       2.57%\n",
       "7  30,000.00             642.34       2.14%"
      ]
     },
     "execution_count": 9,
     "metadata": {},
     "output_type": "execute_result"
    }
   ],
   "source": [
    "\n",
    "mostrar_descontos_mensais(inss_empregado)"
   ]
  },
  {
   "cell_type": "markdown",
   "metadata": {},
   "source": [
    "### Cálculos Anuais"
   ]
  },
  {
   "cell_type": "code",
   "execution_count": 10,
   "metadata": {
    "pycharm": {
     "is_executing": false
    }
   },
   "outputs": [],
   "source": [
    "def imposto_de_renda_anual(salario):\n",
    "    \"\"\"\n",
    "    Calcula imposto de renda anual considerando Décimo terceiro e terço de ferias\n",
    "    :param salario: \n",
    "    :return: \n",
    "    \"\"\"\n",
    "    ir = imposto_de_renda_mensal(salario) * 11\n",
    "    salario_de_ferias = salario + salario / 3\n",
    "    ir += imposto_de_renda_mensal(salario_de_ferias - inss_empregado(salario_de_ferias)) / 0.80\n",
    "    ir += imposto_de_renda_mensal(salario - inss_empregado(salario)) / 0.80  # Tributação exlusiva de décimo terceiro\n",
    "    return ir\n"
   ]
  },
  {
   "cell_type": "code",
   "execution_count": 11,
   "metadata": {
    "pycharm": {
     "is_executing": false
    }
   },
   "outputs": [],
   "source": [
    "def mostrar_descontos_anuais(funcao):\n",
    "    salarios = salario_mensal_bruto\n",
    "    salarios_anuais = [s * 13 + s / 3 for s in salario_mensal_bruto]\n",
    "    results = [\n",
    "        (f'{salario:,.2f}', f'{salario_anual:,.2f}', f'{funcao(salario):,.2f}', f'{funcao(salario) / salario_anual:.2%}') for\n",
    "        salario,  salario_anual in zip(salarios, salarios_anuais)]\n",
    "    df = pd.DataFrame(results, columns=[\"Salário Mensal\", \"Salário Anual\", \"Imposto Descontado\", \"Porcentagem\"])\n",
    "    return df"
   ]
  },
  {
   "cell_type": "code",
   "execution_count": 12,
   "metadata": {
    "pycharm": {
     "is_executing": false
    }
   },
   "outputs": [
    {
     "data": {
      "text/html": [
       "<div>\n",
       "<style scoped>\n",
       "    .dataframe tbody tr th:only-of-type {\n",
       "        vertical-align: middle;\n",
       "    }\n",
       "\n",
       "    .dataframe tbody tr th {\n",
       "        vertical-align: top;\n",
       "    }\n",
       "\n",
       "    .dataframe thead th {\n",
       "        text-align: right;\n",
       "    }\n",
       "</style>\n",
       "<table border=\"1\" class=\"dataframe\">\n",
       "  <thead>\n",
       "    <tr style=\"text-align: right;\">\n",
       "      <th></th>\n",
       "      <th>Salário Mensal</th>\n",
       "      <th>Salário Anual</th>\n",
       "      <th>Imposto Descontado</th>\n",
       "      <th>Porcentagem</th>\n",
       "    </tr>\n",
       "  </thead>\n",
       "  <tbody>\n",
       "    <tr>\n",
       "      <th>0</th>\n",
       "      <td>1,903.98</td>\n",
       "      <td>25,386.40</td>\n",
       "      <td>30.46</td>\n",
       "      <td>0.12%</td>\n",
       "    </tr>\n",
       "    <tr>\n",
       "      <th>1</th>\n",
       "      <td>2,826.66</td>\n",
       "      <td>37,688.80</td>\n",
       "      <td>807.44</td>\n",
       "      <td>2.14%</td>\n",
       "    </tr>\n",
       "    <tr>\n",
       "      <th>2</th>\n",
       "      <td>3,751.06</td>\n",
       "      <td>50,014.13</td>\n",
       "      <td>2,340.55</td>\n",
       "      <td>4.68%</td>\n",
       "    </tr>\n",
       "    <tr>\n",
       "      <th>3</th>\n",
       "      <td>4,664.68</td>\n",
       "      <td>62,195.73</td>\n",
       "      <td>4,600.50</td>\n",
       "      <td>7.40%</td>\n",
       "    </tr>\n",
       "    <tr>\n",
       "      <th>4</th>\n",
       "      <td>9,000.00</td>\n",
       "      <td>120,000.00</td>\n",
       "      <td>17,812.61</td>\n",
       "      <td>14.84%</td>\n",
       "    </tr>\n",
       "    <tr>\n",
       "      <th>5</th>\n",
       "      <td>15,000.00</td>\n",
       "      <td>200,000.00</td>\n",
       "      <td>36,182.61</td>\n",
       "      <td>18.09%</td>\n",
       "    </tr>\n",
       "    <tr>\n",
       "      <th>6</th>\n",
       "      <td>25,000.00</td>\n",
       "      <td>333,333.33</td>\n",
       "      <td>66,799.28</td>\n",
       "      <td>20.04%</td>\n",
       "    </tr>\n",
       "    <tr>\n",
       "      <th>7</th>\n",
       "      <td>30,000.00</td>\n",
       "      <td>400,000.00</td>\n",
       "      <td>82,107.61</td>\n",
       "      <td>20.53%</td>\n",
       "    </tr>\n",
       "  </tbody>\n",
       "</table>\n",
       "</div>"
      ],
      "text/plain": [
       "  Salário Mensal Salário Anual Imposto Descontado Porcentagem\n",
       "0       1,903.98     25,386.40              30.46       0.12%\n",
       "1       2,826.66     37,688.80             807.44       2.14%\n",
       "2       3,751.06     50,014.13           2,340.55       4.68%\n",
       "3       4,664.68     62,195.73           4,600.50       7.40%\n",
       "4       9,000.00    120,000.00          17,812.61      14.84%\n",
       "5      15,000.00    200,000.00          36,182.61      18.09%\n",
       "6      25,000.00    333,333.33          66,799.28      20.04%\n",
       "7      30,000.00    400,000.00          82,107.61      20.53%"
      ]
     },
     "execution_count": 12,
     "metadata": {},
     "output_type": "execute_result"
    }
   ],
   "source": [
    "mostrar_descontos_anuais(imposto_de_renda_anual)\n"
   ]
  },
  {
   "cell_type": "code",
   "execution_count": 13,
   "metadata": {
    "pycharm": {
     "is_executing": false
    }
   },
   "outputs": [],
   "source": [
    "def inss_anual(salario):\n",
    "    \"\"\"\n",
    "    Calcula valor total decontado do empregado anualmente\n",
    "    :param salario: \n",
    "    :return: \n",
    "    \"\"\"\n",
    "    ONZE_MESES_MAIS_DECIMO_TERCEIRO = 12\n",
    "    inss = inss_empregado(salario) * ONZE_MESES_MAIS_DECIMO_TERCEIRO\n",
    "    salario_ferias = salario + salario / 3\n",
    "    return inss + inss_empregado(salario_ferias)\n"
   ]
  },
  {
   "cell_type": "code",
   "execution_count": 14,
   "metadata": {
    "pycharm": {
     "is_executing": false
    }
   },
   "outputs": [
    {
     "data": {
      "text/html": [
       "<div>\n",
       "<style scoped>\n",
       "    .dataframe tbody tr th:only-of-type {\n",
       "        vertical-align: middle;\n",
       "    }\n",
       "\n",
       "    .dataframe tbody tr th {\n",
       "        vertical-align: top;\n",
       "    }\n",
       "\n",
       "    .dataframe thead th {\n",
       "        text-align: right;\n",
       "    }\n",
       "</style>\n",
       "<table border=\"1\" class=\"dataframe\">\n",
       "  <thead>\n",
       "    <tr style=\"text-align: right;\">\n",
       "      <th></th>\n",
       "      <th>Salário Mensal</th>\n",
       "      <th>Salário Anual</th>\n",
       "      <th>Imposto Descontado</th>\n",
       "      <th>Porcentagem</th>\n",
       "    </tr>\n",
       "  </thead>\n",
       "  <tbody>\n",
       "    <tr>\n",
       "      <th>0</th>\n",
       "      <td>1,903.98</td>\n",
       "      <td>25,386.40</td>\n",
       "      <td>2,284.78</td>\n",
       "      <td>9.00%</td>\n",
       "    </tr>\n",
       "    <tr>\n",
       "      <th>1</th>\n",
       "      <td>2,826.66</td>\n",
       "      <td>37,688.80</td>\n",
       "      <td>3,467.37</td>\n",
       "      <td>9.20%</td>\n",
       "    </tr>\n",
       "    <tr>\n",
       "      <th>2</th>\n",
       "      <td>3,751.06</td>\n",
       "      <td>50,014.13</td>\n",
       "      <td>5,501.55</td>\n",
       "      <td>11.00%</td>\n",
       "    </tr>\n",
       "    <tr>\n",
       "      <th>3</th>\n",
       "      <td>4,664.68</td>\n",
       "      <td>62,195.73</td>\n",
       "      <td>6,799.72</td>\n",
       "      <td>10.93%</td>\n",
       "    </tr>\n",
       "    <tr>\n",
       "      <th>4</th>\n",
       "      <td>9,000.00</td>\n",
       "      <td>120,000.00</td>\n",
       "      <td>8,350.41</td>\n",
       "      <td>6.96%</td>\n",
       "    </tr>\n",
       "    <tr>\n",
       "      <th>5</th>\n",
       "      <td>15,000.00</td>\n",
       "      <td>200,000.00</td>\n",
       "      <td>8,350.41</td>\n",
       "      <td>4.18%</td>\n",
       "    </tr>\n",
       "    <tr>\n",
       "      <th>6</th>\n",
       "      <td>25,000.00</td>\n",
       "      <td>333,333.33</td>\n",
       "      <td>8,350.41</td>\n",
       "      <td>2.51%</td>\n",
       "    </tr>\n",
       "    <tr>\n",
       "      <th>7</th>\n",
       "      <td>30,000.00</td>\n",
       "      <td>400,000.00</td>\n",
       "      <td>8,350.41</td>\n",
       "      <td>2.09%</td>\n",
       "    </tr>\n",
       "  </tbody>\n",
       "</table>\n",
       "</div>"
      ],
      "text/plain": [
       "  Salário Mensal Salário Anual Imposto Descontado Porcentagem\n",
       "0       1,903.98     25,386.40           2,284.78       9.00%\n",
       "1       2,826.66     37,688.80           3,467.37       9.20%\n",
       "2       3,751.06     50,014.13           5,501.55      11.00%\n",
       "3       4,664.68     62,195.73           6,799.72      10.93%\n",
       "4       9,000.00    120,000.00           8,350.41       6.96%\n",
       "5      15,000.00    200,000.00           8,350.41       4.18%\n",
       "6      25,000.00    333,333.33           8,350.41       2.51%\n",
       "7      30,000.00    400,000.00           8,350.41       2.09%"
      ]
     },
     "execution_count": 14,
     "metadata": {},
     "output_type": "execute_result"
    }
   ],
   "source": [
    "mostrar_descontos_anuais(inss_anual)\n"
   ]
  },
  {
   "cell_type": "code",
   "execution_count": 15,
   "metadata": {
    "pycharm": {
     "is_executing": false
    }
   },
   "outputs": [],
   "source": [
    "def impostos_anuais(salario):\n",
    "    return imposto_de_renda_anual(salario)+inss_empregado(salario)"
   ]
  },
  {
   "cell_type": "code",
   "execution_count": 16,
   "metadata": {
    "pycharm": {
     "is_executing": false
    }
   },
   "outputs": [],
   "source": [
    "def resumo_empregado(salario):\n",
    "    \"\"\"\n",
    "    Retorna tupla com (Salario Mensal, Salario Mensal liquido,Salario Anual Liquido, Salario Liquido +fgts,Salario Bruto Anual , Impostos, FGTS, \n",
    "    :param funcao: \n",
    "    :return: \n",
    "    \"\"\"\n",
    "\n",
    "    salario_anual_bruto = salario * 13 + salario / 3\n",
    "    impostos = impostos_anuais(salario)\n",
    "    fgts_anual = fgts_mensal(salario)\n",
    "    fgts_anual = fgts_anual * 13 + fgts_anual / 3\n",
    "    salario_mensal_liquido = salario - imposto_de_renda_mensal(salario) - fgts_mensal(salario) - inss_empregado(salario)\n",
    "    salario_anual_menos_impostos = salario_anual_bruto - impostos\n",
    "    return salario, salario_mensal_liquido, salario_anual_menos_impostos, salario_anual_menos_impostos + fgts_anual, salario_anual_bruto, impostos, fgts_anual,\n",
    "\n"
   ]
  },
  {
   "cell_type": "code",
   "execution_count": 17,
   "metadata": {},
   "outputs": [
    {
     "data": {
      "text/html": [
       "<div>\n",
       "<style scoped>\n",
       "    .dataframe tbody tr th:only-of-type {\n",
       "        vertical-align: middle;\n",
       "    }\n",
       "\n",
       "    .dataframe tbody tr th {\n",
       "        vertical-align: top;\n",
       "    }\n",
       "\n",
       "    .dataframe thead th {\n",
       "        text-align: right;\n",
       "    }\n",
       "</style>\n",
       "<table border=\"1\" class=\"dataframe\">\n",
       "  <thead>\n",
       "    <tr style=\"text-align: right;\">\n",
       "      <th></th>\n",
       "      <th>Salário Mensal</th>\n",
       "      <th>Salário Mensal Líquido</th>\n",
       "      <th>Salário Anual Líquido</th>\n",
       "      <th>Salário Liquido +FGTS</th>\n",
       "      <th>Salário Bruto Anual</th>\n",
       "      <th>Imposto Descontado</th>\n",
       "      <th>FGTS</th>\n",
       "    </tr>\n",
       "  </thead>\n",
       "  <tbody>\n",
       "    <tr>\n",
       "      <th>0</th>\n",
       "      <td>1,903.98</td>\n",
       "      <td>1,519.38</td>\n",
       "      <td>25,184.58</td>\n",
       "      <td>28,027.85</td>\n",
       "      <td>25,386.40</td>\n",
       "      <td>201.82</td>\n",
       "      <td>2,843.28</td>\n",
       "    </tr>\n",
       "    <tr>\n",
       "      <th>1</th>\n",
       "      <td>2,826.66</td>\n",
       "      <td>2,200.31</td>\n",
       "      <td>36,626.96</td>\n",
       "      <td>40,848.11</td>\n",
       "      <td>37,688.80</td>\n",
       "      <td>1,061.84</td>\n",
       "      <td>4,221.15</td>\n",
       "    </tr>\n",
       "    <tr>\n",
       "      <th>2</th>\n",
       "      <td>3,751.06</td>\n",
       "      <td>2,752.04</td>\n",
       "      <td>47,260.97</td>\n",
       "      <td>52,862.55</td>\n",
       "      <td>50,014.13</td>\n",
       "      <td>2,753.17</td>\n",
       "      <td>5,601.58</td>\n",
       "    </tr>\n",
       "    <tr>\n",
       "      <th>3</th>\n",
       "      <td>4,664.68</td>\n",
       "      <td>3,298.38</td>\n",
       "      <td>57,082.12</td>\n",
       "      <td>64,048.04</td>\n",
       "      <td>62,195.73</td>\n",
       "      <td>5,113.61</td>\n",
       "      <td>6,965.92</td>\n",
       "    </tr>\n",
       "    <tr>\n",
       "      <th>4</th>\n",
       "      <td>9,000.00</td>\n",
       "      <td>6,065.15</td>\n",
       "      <td>101,545.05</td>\n",
       "      <td>114,985.05</td>\n",
       "      <td>120,000.00</td>\n",
       "      <td>18,454.95</td>\n",
       "      <td>13,440.00</td>\n",
       "    </tr>\n",
       "    <tr>\n",
       "      <th>5</th>\n",
       "      <td>15,000.00</td>\n",
       "      <td>10,073.15</td>\n",
       "      <td>163,175.05</td>\n",
       "      <td>185,575.05</td>\n",
       "      <td>200,000.00</td>\n",
       "      <td>36,824.95</td>\n",
       "      <td>22,400.00</td>\n",
       "    </tr>\n",
       "    <tr>\n",
       "      <th>6</th>\n",
       "      <td>25,000.00</td>\n",
       "      <td>16,753.15</td>\n",
       "      <td>265,891.72</td>\n",
       "      <td>303,225.05</td>\n",
       "      <td>333,333.33</td>\n",
       "      <td>67,441.62</td>\n",
       "      <td>37,333.33</td>\n",
       "    </tr>\n",
       "    <tr>\n",
       "      <th>7</th>\n",
       "      <td>30,000.00</td>\n",
       "      <td>20,093.15</td>\n",
       "      <td>317,250.05</td>\n",
       "      <td>362,050.05</td>\n",
       "      <td>400,000.00</td>\n",
       "      <td>82,749.95</td>\n",
       "      <td>44,800.00</td>\n",
       "    </tr>\n",
       "  </tbody>\n",
       "</table>\n",
       "</div>"
      ],
      "text/plain": [
       "    Salário Mensal Salário Mensal Líquido Salário Anual Líquido  \\\n",
       "0  1,903.98               1,519.38              25,184.58         \n",
       "1  2,826.66               2,200.31              36,626.96         \n",
       "2  3,751.06               2,752.04              47,260.97         \n",
       "3  4,664.68               3,298.38              57,082.12         \n",
       "4  9,000.00               6,065.15              101,545.05        \n",
       "5  15,000.00              10,073.15             163,175.05        \n",
       "6  25,000.00              16,753.15             265,891.72        \n",
       "7  30,000.00              20,093.15             317,250.05        \n",
       "\n",
       "  Salário Liquido +FGTS Salário Bruto Anual Imposto Descontado  \\\n",
       "0       28,027.85           25,386.40          201.82            \n",
       "1       40,848.11           37,688.80          1,061.84          \n",
       "2       52,862.55           50,014.13          2,753.17          \n",
       "3       64,048.04           62,195.73          5,113.61          \n",
       "4       114,985.05          120,000.00         18,454.95         \n",
       "5       185,575.05          200,000.00         36,824.95         \n",
       "6       303,225.05          333,333.33         67,441.62         \n",
       "7       362,050.05          400,000.00         82,749.95         \n",
       "\n",
       "              FGTS  \n",
       "0  2,843.28         \n",
       "1  4,221.15         \n",
       "2  5,601.58         \n",
       "3  6,965.92         \n",
       "4  13,440.00        \n",
       "5  22,400.00        \n",
       "6  37,333.33        \n",
       "7  44,800.00        "
      ]
     },
     "metadata": {},
     "output_type": "display_data"
    }
   ],
   "source": [
    "result = [map(lambda v: f'{v:<15,.2f}', resumo_empregado(salario)) for salario in salario_mensal_bruto]\n",
    "df = pd.DataFrame(result, columns=[\"Salário Mensal\", \"Salário Mensal Líquido\",\"Salário Anual Líquido\",\"Salário Liquido +FGTS\", \"Salário Bruto Anual\", \"Imposto Descontado\", \"FGTS\"])\n",
    "display(df)\n"
   ]
  },
  {
   "cell_type": "code",
   "execution_count": 18,
   "metadata": {
    "pycharm": {
     "is_executing": false
    }
   },
   "outputs": [],
   "source": [
    "faturamento_bruto = [(s+fgts_mensal(s)) * (13 + 1 / 3) for s in salario_mensal_bruto]\n",
    "\n"
   ]
  },
  {
   "cell_type": "code",
   "execution_count": 19,
   "metadata": {
    "pycharm": {
     "is_executing": false
    }
   },
   "outputs": [
    {
     "data": {
      "text/html": [
       "<div>\n",
       "<style scoped>\n",
       "    .dataframe tbody tr th:only-of-type {\n",
       "        vertical-align: middle;\n",
       "    }\n",
       "\n",
       "    .dataframe tbody tr th {\n",
       "        vertical-align: top;\n",
       "    }\n",
       "\n",
       "    .dataframe thead th {\n",
       "        text-align: right;\n",
       "    }\n",
       "</style>\n",
       "<table border=\"1\" class=\"dataframe\">\n",
       "  <thead>\n",
       "    <tr style=\"text-align: right;\">\n",
       "      <th></th>\n",
       "      <th>Faturamento Bruto</th>\n",
       "    </tr>\n",
       "  </thead>\n",
       "  <tbody>\n",
       "    <tr>\n",
       "      <th>0</th>\n",
       "      <td>28,229.68</td>\n",
       "    </tr>\n",
       "    <tr>\n",
       "      <th>1</th>\n",
       "      <td>41,909.95</td>\n",
       "    </tr>\n",
       "    <tr>\n",
       "      <th>2</th>\n",
       "      <td>55,615.72</td>\n",
       "    </tr>\n",
       "    <tr>\n",
       "      <th>3</th>\n",
       "      <td>69,161.66</td>\n",
       "    </tr>\n",
       "    <tr>\n",
       "      <th>4</th>\n",
       "      <td>133,440.00</td>\n",
       "    </tr>\n",
       "    <tr>\n",
       "      <th>5</th>\n",
       "      <td>222,400.00</td>\n",
       "    </tr>\n",
       "    <tr>\n",
       "      <th>6</th>\n",
       "      <td>370,666.67</td>\n",
       "    </tr>\n",
       "    <tr>\n",
       "      <th>7</th>\n",
       "      <td>444,800.00</td>\n",
       "    </tr>\n",
       "  </tbody>\n",
       "</table>\n",
       "</div>"
      ],
      "text/plain": [
       "  Faturamento Bruto\n",
       "0         28,229.68\n",
       "1         41,909.95\n",
       "2         55,615.72\n",
       "3         69,161.66\n",
       "4        133,440.00\n",
       "5        222,400.00\n",
       "6        370,666.67\n",
       "7        444,800.00"
      ]
     },
     "metadata": {},
     "output_type": "display_data"
    }
   ],
   "source": [
    "display(pd.DataFrame([f'{v:,.2f}' for v in faturamento_bruto], columns=[\"Faturamento Bruto\"]))"
   ]
  },
  {
   "cell_type": "markdown",
   "metadata": {
    "pycharm": {}
   },
   "source": [
    "# PJ SIMPLES ANEXO III"
   ]
  },
  {
   "cell_type": "code",
   "execution_count": 20,
   "metadata": {
    "pycharm": {
     "is_executing": false
    }
   },
   "outputs": [],
   "source": [
    "def custos_simples_anexo_iii(faturamento_anual, contador=89, prolabore=1_100) -> float:\n",
    "    \"\"\"\n",
    "    Calcula custos de impostos para empresa simples de anexo III\n",
    "    DAS, Prólabore e Contador\n",
    "    \n",
    "    Aliquotas 2019: https://www.contabilizei.com.br/contabilidade-online/anexo-3-simples-nacional/\n",
    "    :param faturamento_anual: \n",
    "    :param contador: \n",
    "    :param prolabore: \n",
    "    :return: \n",
    "    \"\"\"\n",
    "    saldo = faturamento_anual\n",
    "    aliquotas_faixas = {0.33: 3_600_000, 0.21: 1_800_000, 0.16: 720_000, 0.135: 360_000, 0.112: 180_000, 0.06: 0}\n",
    "    imposto = 0\n",
    "    for aliquota, faixa in aliquotas_faixas.items():\n",
    "        delta = max(saldo - faixa, 0)\n",
    "        imposto += delta * aliquota\n",
    "        saldo = min(saldo, faixa)\n",
    "    inss = prolabore * 0.11\n",
    "    return imposto + 12 * (contador + inss)\n"
   ]
  },
  {
   "cell_type": "markdown",
   "metadata": {},
   "source": [
    "Para o cálculo de impostos PJ foi utilizada a tabela [desse site](https://www.contabilizei.com.br/contabilidade-online/anexo-3-simples-nacional/) reproduzida abaixo\n",
    "\n",
    "| Faixa   | Alíquota|  Valor a Deduzir  | Receita Bruta em 12 Meses         |\n",
    "| ------- | ------- | ----------------- | --------------------------------- |\n",
    "|1a Faixa |\t6,00%   |       -            |   Até 180.000,00                  | \n",
    "|2a Faixa |\t11,20%  |   9.360,00\t    |   De 180.000,01 a 360.000,00      |\n",
    "|3a Faixa |\t13,50%  |   17.640,00\t    |   De 360.000,01 a 720.000,00      |\n",
    "|4a Faixa |\t16,00%  |   35.640,00\t    |   De 720.000,01 a 1.800.000,00    |\n",
    "|5a Faixa |\t21,00%  |   125.640,00\t    |   De 1.800.000,01 a 3.600.000,00  | \n",
    "|6a Faixa |\t33,00%  |   648.000,00\t    |   De 3.600.000,01 a 4.800.000,00  |"
   ]
  },
  {
   "cell_type": "code",
   "execution_count": 21,
   "metadata": {
    "pycharm": {
     "is_executing": false
    }
   },
   "outputs": [],
   "source": [
    "def resumo_pj(faturamento):\n",
    "    custo_anual = custos_simples_anexo_iii(faturamento)\n",
    "    return faturamento / 12, (faturamento - custo_anual) / 12, faturamento - custo_anual, faturamento \n",
    "\n"
   ]
  },
  {
   "cell_type": "code",
   "execution_count": 22,
   "metadata": {
    "pycharm": {
     "is_executing": false
    }
   },
   "outputs": [
    {
     "data": {
      "text/html": [
       "<div>\n",
       "<style scoped>\n",
       "    .dataframe tbody tr th:only-of-type {\n",
       "        vertical-align: middle;\n",
       "    }\n",
       "\n",
       "    .dataframe tbody tr th {\n",
       "        vertical-align: top;\n",
       "    }\n",
       "\n",
       "    .dataframe thead th {\n",
       "        text-align: right;\n",
       "    }\n",
       "</style>\n",
       "<table border=\"1\" class=\"dataframe\">\n",
       "  <thead>\n",
       "    <tr style=\"text-align: right;\">\n",
       "      <th></th>\n",
       "      <th>Faturamento Mensal</th>\n",
       "      <th>Lucro Mensal</th>\n",
       "      <th>Lucro Anual</th>\n",
       "      <th>Faturamento Anual</th>\n",
       "    </tr>\n",
       "  </thead>\n",
       "  <tbody>\n",
       "    <tr>\n",
       "      <th>0</th>\n",
       "      <td>2,352.47</td>\n",
       "      <td>2,001.32</td>\n",
       "      <td>24,015.90</td>\n",
       "      <td>28,229.68</td>\n",
       "    </tr>\n",
       "    <tr>\n",
       "      <th>1</th>\n",
       "      <td>3,492.50</td>\n",
       "      <td>3,072.95</td>\n",
       "      <td>36,875.35</td>\n",
       "      <td>41,909.95</td>\n",
       "    </tr>\n",
       "    <tr>\n",
       "      <th>2</th>\n",
       "      <td>4,634.64</td>\n",
       "      <td>4,146.56</td>\n",
       "      <td>49,758.77</td>\n",
       "      <td>55,615.72</td>\n",
       "    </tr>\n",
       "    <tr>\n",
       "      <th>3</th>\n",
       "      <td>5,763.47</td>\n",
       "      <td>5,207.66</td>\n",
       "      <td>62,491.96</td>\n",
       "      <td>69,161.66</td>\n",
       "    </tr>\n",
       "    <tr>\n",
       "      <th>4</th>\n",
       "      <td>11,120.00</td>\n",
       "      <td>10,242.80</td>\n",
       "      <td>122,913.60</td>\n",
       "      <td>133,440.00</td>\n",
       "    </tr>\n",
       "    <tr>\n",
       "      <th>5</th>\n",
       "      <td>18,533.33</td>\n",
       "      <td>17,027.60</td>\n",
       "      <td>204,331.20</td>\n",
       "      <td>222,400.00</td>\n",
       "    </tr>\n",
       "    <tr>\n",
       "      <th>6</th>\n",
       "      <td>30,888.89</td>\n",
       "      <td>27,978.89</td>\n",
       "      <td>335,746.67</td>\n",
       "      <td>370,666.67</td>\n",
       "    </tr>\n",
       "    <tr>\n",
       "      <th>7</th>\n",
       "      <td>37,066.67</td>\n",
       "      <td>33,322.67</td>\n",
       "      <td>399,872.00</td>\n",
       "      <td>444,800.00</td>\n",
       "    </tr>\n",
       "  </tbody>\n",
       "</table>\n",
       "</div>"
      ],
      "text/plain": [
       "  Faturamento Mensal     Lucro Mensal      Lucro Anual Faturamento Anual\n",
       "0    2,352.47         2,001.32         24,015.90         28,229.68      \n",
       "1    3,492.50         3,072.95         36,875.35         41,909.95      \n",
       "2    4,634.64         4,146.56         49,758.77         55,615.72      \n",
       "3    5,763.47         5,207.66         62,491.96         69,161.66      \n",
       "4    11,120.00        10,242.80        122,913.60        133,440.00     \n",
       "5    18,533.33        17,027.60        204,331.20        222,400.00     \n",
       "6    30,888.89        27,978.89        335,746.67        370,666.67     \n",
       "7    37,066.67        33,322.67        399,872.00        444,800.00     "
      ]
     },
     "metadata": {},
     "output_type": "display_data"
    }
   ],
   "source": [
    "results = [map(lambda v: f'{v:<15,.2f}', resumo_pj(faturamento)) for faturamento in faturamento_bruto]\n",
    "display(pd.DataFrame(results, columns=[\"Faturamento Mensal\", \"Lucro Mensal\", \"Lucro Anual\", \"Faturamento Anual\"]))"
   ]
  },
  {
   "cell_type": "markdown",
   "metadata": {},
   "source": [
    "# Resultado"
   ]
  },
  {
   "cell_type": "code",
   "execution_count": 26,
   "metadata": {
    "pycharm": {
     "is_executing": false
    }
   },
   "outputs": [
    {
     "data": {
      "text/html": [
       "<div>\n",
       "<style scoped>\n",
       "    .dataframe tbody tr th:only-of-type {\n",
       "        vertical-align: middle;\n",
       "    }\n",
       "\n",
       "    .dataframe tbody tr th {\n",
       "        vertical-align: top;\n",
       "    }\n",
       "\n",
       "    .dataframe thead th {\n",
       "        text-align: right;\n",
       "    }\n",
       "</style>\n",
       "<table border=\"1\" class=\"dataframe\">\n",
       "  <thead>\n",
       "    <tr style=\"text-align: right;\">\n",
       "      <th></th>\n",
       "      <th>Salário Mensal</th>\n",
       "      <th>CLT</th>\n",
       "      <th>PJ</th>\n",
       "      <th>DIFF</th>\n",
       "    </tr>\n",
       "  </thead>\n",
       "  <tbody>\n",
       "    <tr>\n",
       "      <th>0</th>\n",
       "      <td>1,903.98</td>\n",
       "      <td>25,184.58</td>\n",
       "      <td>24,015.90</td>\n",
       "      <td>-1,168.68</td>\n",
       "    </tr>\n",
       "    <tr>\n",
       "      <th>1</th>\n",
       "      <td>2,826.66</td>\n",
       "      <td>36,626.96</td>\n",
       "      <td>36,875.35</td>\n",
       "      <td>248.39</td>\n",
       "    </tr>\n",
       "    <tr>\n",
       "      <th>2</th>\n",
       "      <td>3,751.06</td>\n",
       "      <td>47,260.97</td>\n",
       "      <td>49,758.77</td>\n",
       "      <td>2,497.81</td>\n",
       "    </tr>\n",
       "    <tr>\n",
       "      <th>3</th>\n",
       "      <td>4,664.68</td>\n",
       "      <td>57,082.12</td>\n",
       "      <td>62,491.96</td>\n",
       "      <td>5,409.83</td>\n",
       "    </tr>\n",
       "    <tr>\n",
       "      <th>4</th>\n",
       "      <td>9,000.00</td>\n",
       "      <td>101,545.05</td>\n",
       "      <td>122,913.60</td>\n",
       "      <td>21,368.55</td>\n",
       "    </tr>\n",
       "    <tr>\n",
       "      <th>5</th>\n",
       "      <td>15,000.00</td>\n",
       "      <td>163,175.05</td>\n",
       "      <td>204,331.20</td>\n",
       "      <td>41,156.15</td>\n",
       "    </tr>\n",
       "    <tr>\n",
       "      <th>6</th>\n",
       "      <td>25,000.00</td>\n",
       "      <td>265,891.72</td>\n",
       "      <td>335,746.67</td>\n",
       "      <td>69,854.95</td>\n",
       "    </tr>\n",
       "    <tr>\n",
       "      <th>7</th>\n",
       "      <td>30,000.00</td>\n",
       "      <td>317,250.05</td>\n",
       "      <td>399,872.00</td>\n",
       "      <td>82,621.95</td>\n",
       "    </tr>\n",
       "  </tbody>\n",
       "</table>\n",
       "</div>"
      ],
      "text/plain": [
       "  Salário Mensal              CLT               PJ             DIFF\n",
       "0       1,903.98  25,184.58        24,015.90        -1,168.68      \n",
       "1       2,826.66  36,626.96        36,875.35        248.39         \n",
       "2       3,751.06  47,260.97        49,758.77        2,497.81       \n",
       "3       4,664.68  57,082.12        62,491.96        5,409.83       \n",
       "4       9,000.00  101,545.05       122,913.60       21,368.55      \n",
       "5      15,000.00  163,175.05       204,331.20       41,156.15      \n",
       "6      25,000.00  265,891.72       335,746.67       69,854.95      \n",
       "7      30,000.00  317,250.05       399,872.00       82,621.95      "
      ]
     },
     "metadata": {},
     "output_type": "display_data"
    }
   ],
   "source": [
    "data = []\n",
    "for salario, faturamento in zip(salario_mensal_bruto, faturamento_bruto):\n",
    "    result = []\n",
    "    result.append(f'{salario:,.2f}')\n",
    "    clt = resumo_empregado(salario)[2]\n",
    "    result.append(f'{clt :<15,.2f}')\n",
    "    pj = resumo_pj(faturamento)[2]\n",
    "    result.append(f'{pj :<15,.2f}')\n",
    "    result.append(f'{pj - clt :<15,.2f}')\n",
    "    data.append(result)\n",
    "df = pd.DataFrame(data, columns=[\"Salário Mensal\", \"CLT\", \"PJ\", \"DIFF\"])\n",
    "display(df)\n"
   ]
  },
  {
   "cell_type": "code",
   "execution_count": 27,
   "metadata": {},
   "outputs": [],
   "source": [
    "data = []\n",
    "index = []\n",
    "for salario, faturamento in zip(salario_mensal_bruto, faturamento_bruto):\n",
    "    result = []\n",
    "    index.append(f'R$ {salario:,.2f}')\n",
    "    clt = resumo_empregado(salario)[2]\n",
    "    result.append(clt)\n",
    "    pj = resumo_pj(faturamento)[2]\n",
    "    result.append(pj)\n",
    "    result.append(pj - clt)\n",
    "    data.append(result)\n",
    "df = pd.DataFrame(data, columns=[ \"CLT\", \"PJ\", \"DIFF\"], index=index)"
   ]
  },
  {
   "cell_type": "code",
   "execution_count": 28,
   "metadata": {},
   "outputs": [
    {
     "data": {
      "image/png": "[encoded data removed]",
      "text/plain": [
       "<Figure size 684x360 with 1 Axes>"
      ]
     },
     "metadata": {
      "needs_background": "light"
     },
     "output_type": "display_data"
    }
   ],
   "source": [
    "ax = df.plot.bar(figsize=(9.5,5));\n",
    "vals = ax.get_yticks();\n",
    "ax.set_yticklabels([f'R${x:,.2f}' for x in vals]);\n",
    "ax.set_ylabel(\"Lucro Anual\");\n",
    "ax.set_xlabel(\"Salário Mensal\");\n",
    "\n",
    "\n"
   ]
  },
  {
   "cell_type": "code",
   "execution_count": null,
   "metadata": {},
   "outputs": [],
   "source": []
  }
 ],
 "metadata": {
  "kernelspec": {
   "display_name": "Python 3",
   "language": "python",
   "name": "python3"
  },
  "language_info": {
   "codemirror_mode": {
    "name": "ipython",
    "version": 3
   },
   "file_extension": ".py",
   "mimetype": "text/x-python",
   "name": "python",
   "nbconvert_exporter": "python",
   "pygments_lexer": "ipython3",
   "version": "3.7.1"
  },
  "stem_cell": {
   "cell_type": "raw",
   "metadata": {
    "pycharm": {
     "metadata": false
    }
   },
   "source": ""
  }
 },
 "nbformat": 4,
 "nbformat_minor": 1
}
