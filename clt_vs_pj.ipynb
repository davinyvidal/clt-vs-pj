{
 "cells": [
  {
   "cell_type": "code",
   "execution_count": 2,
   "metadata": {},
   "outputs": [],
   "source": [
    "def mostrar_descontos_mensais(funcao):\n",
    "    salarios = [1_903.98, 2_826.66, 3_751.06, 4_664.68, 8_333.34, 16_666.67, 25_000, 83_333.34, 833_333.34]\n",
    "    return [(f'R$ {funcao(salario):,.2f}', f'{funcao(salario) / salario:.2%}') for salario in salarios]"
   ]
  },
  {
   "cell_type": "code",
   "execution_count": 4,
   "metadata": {
    "collapsed": true
   },
   "outputs": [],
   "source": [
    "def imposto_de_renda_mensal(salario_mensal:float) -> float:\n",
    "    \"\"\"\n",
    "    Calcula imposto de renda PF de acordo com faixa do ano de 2019\n",
    "    https://impostoderenda2019.net.br/tabela-imposto-de-renda-2019/\n",
    "    \n",
    "    \"\"\"\n",
    "    saldo = salario_mensal\n",
    "    aliquotas_faixas = {0.275: 4_664.68, 0.225: 3_751.06, 0.15: 2_826.66, 0.075: 1_903.98, 0: 0}\n",
    "    ir = 0\n",
    "    desconto_simplificado = 0.25  # 25% de desconto simplificado\n",
    "    for aliquota, faixa in aliquotas_faixas.items():\n",
    "        delta = max(saldo - faixa, 0)\n",
    "        ir += delta * aliquota * (1 - desconto_simplificado)\n",
    "        saldo = min(saldo, faixa)\n",
    "    return ir\n"
   ]
  },
  {
   "cell_type": "code",
   "execution_count": 7,
   "metadata": {},
   "outputs": [
    {
     "data": {
      "text/plain": [
       "[('R$ 0.00', '0.00%'),\n ('R$ 51.90', '1.84%'),\n ('R$ 155.90', '4.16%'),\n ('R$ 310.07', '6.65%'),\n ('R$ 1,066.73', '12.80%'),\n ('R$ 2,785.48', '16.71%'),\n ('R$ 4,504.23', '18.02%'),\n ('R$ 16,535.48', '19.84%'),\n ('R$ 171,222.98', '20.55%')]"
      ]
     },
     "execution_count": 7,
     "metadata": {},
     "output_type": "execute_result"
    }
   ],
   "source": [
    "mostrar_descontos_mensais(imposto_de_renda_mensal)\n"
   ]
  },
  {
   "cell_type": "code",
   "execution_count": 11,
   "metadata": {},
   "outputs": [],
   "source": [
    "def fgts_empregador(salario_mensal: float)-> float:\n",
    "    \"\"\"\n",
    "    Calcula fgts a ser pago de imposto pelo empregador em 1 ano. \n",
    "    Aliquota de 8% + 40% disso em caso de demissão com justa causa -> 11,2%\n",
    "    \n",
    "    \n",
    "    :param salario_mensal: salário mensal bruto do empregado\n",
    "    :return: float\n",
    "    \"\"\"\n",
    "    return salario_mensal * 0.112\n"
   ]
  },
  {
   "cell_type": "code",
   "execution_count": 14,
   "metadata": {},
   "outputs": [
    {
     "data": {
      "text/plain": [
       "[('R$ 213.25', '11.20%'),\n ('R$ 316.59', '11.20%'),\n ('R$ 420.12', '11.20%'),\n ('R$ 522.44', '11.20%'),\n ('R$ 933.33', '11.20%'),\n ('R$ 1,866.67', '11.20%'),\n ('R$ 2,800.00', '11.20%'),\n ('R$ 9,333.33', '11.20%'),\n ('R$ 93,333.33', '11.20%')]"
      ]
     },
     "execution_count": 14,
     "metadata": {},
     "output_type": "execute_result"
    }
   ],
   "source": [
    "mostrar_descontos_mensais(fgts_empregador)"
   ]
  },
  {
   "cell_type": "code",
   "execution_count": 18,
   "metadata": {},
   "outputs": [],
   "source": [
    "def inss_empregado(salario_mensal):\n",
    "    \"\"\"\n",
    "    Calcula inss para 2019: 1.751,81\n",
    "    :param salario_mensal: \n",
    "    :return: \n",
    "    \"\"\"\n",
    "    teto = 5_839.45\n",
    "    if salario_mensal < 1_751.81:\n",
    "        return salario_mensal * 0.08\n",
    "    elif salario_mensal < 2_919.72:\n",
    "        return salario_mensal * 0.09\n",
    "   \n",
    "    return min(salario_mensal, teto) * 0.11\n"
   ]
  },
  {
   "cell_type": "code",
   "execution_count": 25,
   "metadata": {},
   "outputs": [
    {
     "data": {
      "text/plain": [
       "[('R$ 171.36', '9.00%'),\n ('R$ 254.40', '9.00%'),\n ('R$ 412.62', '11.00%'),\n ('R$ 513.11', '11.00%'),\n ('R$ 642.34', '7.71%'),\n ('R$ 642.34', '3.85%'),\n ('R$ 642.34', '2.57%'),\n ('R$ 642.34', '0.77%'),\n ('R$ 642.34', '0.08%')]"
      ]
     },
     "execution_count": 25,
     "metadata": {},
     "output_type": "execute_result"
    }
   ],
   "source": [
    "\n",
    "mostrar_descontos_mensais(inss_empregado)"
   ]
  },
  {
   "cell_type": "code",
   "execution_count": 34,
   "metadata": {},
   "outputs": [],
   "source": [
    "def imposto_de_renda_anual(salario):\n",
    "    \"\"\"\n",
    "    Calcula imposto de renda anual considerando Décimo terceiro e terço de ferias\n",
    "    :param salario: \n",
    "    :return: \n",
    "    \"\"\"\n",
    "    ir = imposto_de_renda_mensal(salario) * 11\n",
    "    salario_de_ferias = salario + salario / 3\n",
    "    ir += imposto_de_renda_mensal(salario_de_ferias - inss_empregado(salario_de_ferias))\n",
    "    ir += imposto_de_renda_mensal(salario - inss_empregado(salario)) / 0.75  # Tributação exlusiva de décimo terceiro\n",
    "    return ir\n"
   ]
  },
  {
   "cell_type": "code",
   "execution_count": 35,
   "metadata": {},
   "outputs": [],
   "source": [
    "def mostrar_descontos_anuais(funcao):\n",
    "    salarios = [1_903.98, 2_826.66, 3_751.06, 4_664.68, 8_333.34, 16_666.67, 25_000, 83_333.34, 833_333.34]\n",
    "    salarios_anuais = [s * 13 + s / 3 for s in salarios]\n",
    "    for tpl in [\n",
    "        (f'Salário Mensal R$ {salario:,.2f}', f' Salário Anual R$ {salario_anual:,.2f}', f'R$ {funcao(salario):,.2f}', f'{funcao(salario) / salario_anual:.2%}') for\n",
    "        salario,  salario_anual in zip(salarios, salarios_anuais)]:\n",
    "        print(*tpl, sep=' - ')\n"
   ]
  },
  {
   "cell_type": "code",
   "execution_count": 36,
   "metadata": {},
   "outputs": [
    {
     "name": "stdout",
     "output_type": "stream",
     "text": [
      "Salário Mensal R$ 1,903.98 -  Salário Anual R$ 25,386.40 - R$ 22.85 - 0.09%\nSalário Mensal R$ 2,826.66 -  Salário Anual R$ 37,688.80 - R$ 732.29 - 1.94%\nSalário Mensal R$ 3,751.06 -  Salário Anual R$ 50,014.13 - R$ 2,134.88 - 4.27%\nSalário Mensal R$ 4,664.68 -  Salário Anual R$ 62,195.73 - R$ 4,207.02 - 6.76%\nSalário Mensal R$ 8,333.34 -  Salário Anual R$ 111,111.20 - R$ 14,486.86 - 13.04%\nSalário Mensal R$ 16,666.67 -  Salário Anual R$ 222,222.27 - R$ 37,976.44 - 17.09%\nSalário Mensal R$ 25,000.00 -  Salário Anual R$ 333,333.33 - R$ 61,466.01 - 18.44%\nSalário Mensal R$ 83,333.34 -  Salário Anual R$ 1,111,111.20 - R$ 225,893.11 - 20.33%\nSalário Mensal R$ 833,333.34 -  Salário Anual R$ 11,111,111.20 - R$ 2,339,955.61 - 21.06%\n"
     ]
    }
   ],
   "source": [
    "mostrar_descontos_anuais(imposto_de_renda_anual)"
   ]
  },
  {
   "cell_type": "code",
   "execution_count": 37,
   "metadata": {},
   "outputs": [],
   "source": [
    "def inss_anual(salario):\n",
    "    \"\"\"\n",
    "    Calcula valor total decontado do empregado anualmente\n",
    "    :param salario: \n",
    "    :return: \n",
    "    \"\"\"\n",
    "    ONZE_MESES_MAIS_DECIMO_TERCEIRO = 12\n",
    "    inss = inss_empregado(salario) * ONZE_MESES_MAIS_DECIMO_TERCEIRO\n",
    "    salario_ferias = salario + salario / 3\n",
    "    return inss + inss_empregado(salario_ferias)\n"
   ]
  },
  {
   "cell_type": "code",
   "execution_count": 38,
   "metadata": {},
   "outputs": [
    {
     "name": "stdout",
     "output_type": "stream",
     "text": [
      "Salário Mensal R$ 1,903.98 -  Salário Anual R$ 25,386.40 - R$ 2,284.78 - 9.00%\nSalário Mensal R$ 2,826.66 -  Salário Anual R$ 37,688.80 - R$ 3,467.37 - 9.20%\nSalário Mensal R$ 3,751.06 -  Salário Anual R$ 50,014.13 - R$ 5,501.55 - 11.00%\nSalário Mensal R$ 4,664.68 -  Salário Anual R$ 62,195.73 - R$ 6,799.72 - 10.93%\nSalário Mensal R$ 8,333.34 -  Salário Anual R$ 111,111.20 - R$ 8,350.41 - 7.52%\nSalário Mensal R$ 16,666.67 -  Salário Anual R$ 222,222.27 - R$ 8,350.41 - 3.76%\nSalário Mensal R$ 25,000.00 -  Salário Anual R$ 333,333.33 - R$ 8,350.41 - 2.51%\nSalário Mensal R$ 83,333.34 -  Salário Anual R$ 1,111,111.20 - R$ 8,350.41 - 0.75%\nSalário Mensal R$ 833,333.34 -  Salário Anual R$ 11,111,111.20 - R$ 8,350.41 - 0.08%\n"
     ]
    }
   ],
   "source": [
    "mostrar_descontos_anuais(inss_anual)"
   ]
  },
  {
   "cell_type": "code",
   "execution_count": 39,
   "metadata": {},
   "outputs": [],
   "source": [
    "def impostos_anuais(salario):\n",
    "    return imposto_de_renda_anual(salario)+inss_empregado(salario)"
   ]
  },
  {
   "cell_type": "code",
   "execution_count": 40,
   "metadata": {},
   "outputs": [],
   "source": [
    "def resumo_empregado(salario):\n",
    "    \"\"\"\n",
    "    Retorna tupla com (Salario Mensal, Salario Mensal liquido,Salario Anual Liquido, Salario Liquido +fgts,Salario Bruto Anual , Impostos, FGTS, \n",
    "    :param funcao: \n",
    "    :return: \n",
    "    \"\"\"\n",
    "\n",
    "    salario_anual_bruto = salario * 13 + salario / 3\n",
    "    impostos = impostos_anuais(salario)\n",
    "    fgts = fgts_empregador(salario)\n",
    "    fgts = fgts * 13 + fgts / 3\n",
    "    salario_mensal_liquido = salario - imposto_de_renda_mensal(salario) - fgts_empregador(salario) - inss_empregado(salario)\n",
    "    return salario, salario_mensal_liquido, salario_anual_bruto - impostos, salario_anual_bruto - impostos + fgts, salario_anual_bruto, impostos, fgts,\n"
   ]
  },
  {
   "cell_type": "code",
   "execution_count": 41,
   "metadata": {},
   "outputs": [],
   "source": [
    "salario_anual_bruto=[1_903.98, 2_826.66, 3_751.06, 4_664.68, 8_333.34, 16_666.67, 25_000, 83_333.34, 833_333.34]"
   ]
  },
  {
   "cell_type": "code",
   "execution_count": 42,
   "metadata": {},
   "outputs": [
    {
     "name": "stdout",
     "output_type": "stream",
     "text": [
      "1,903.98 - 1,519.38 - 25,192.19 - 28,035.47 - 25,386.40 - 194.21 - 2,843.28\n2,826.66 - 2,203.77 - 36,702.11 - 40,923.26 - 37,688.80 - 986.69 - 4,221.15\n3,751.06 - 2,762.43 - 47,466.64 - 53,068.22 - 50,014.13 - 2,547.49 - 5,601.58\n4,664.68 - 3,319.05 - 57,475.60 - 64,441.52 - 62,195.73 - 4,720.13 - 6,965.92\n8,333.34 - 5,690.94 - 95,982.00 - 108,426.45 - 111,111.20 - 15,129.20 - 12,444.45\n16,666.67 - 11,372.18 - 183,603.49 - 208,492.39 - 222,222.27 - 38,618.77 - 24,888.89\n25,000.00 - 17,053.43 - 271,224.98 - 308,558.32 - 333,333.33 - 62,108.35 - 37,333.33\n83,333.34 - 56,822.19 - 884,575.75 - 1,009,020.20 - 1,111,111.20 - 226,535.45 - 124,444.45\n833,333.34 - 568,134.69 - 8,770,513.25 - 10,014,957.70 - 11,111,111.20 - 2,340,597.95 - 1,244,444.45\n"
     ]
    }
   ],
   "source": [
    "for salario in salario_anual_bruto:\n",
    "    print(*map(lambda v: f'{v:,.2f}', resumo_empregado(salario)), sep=' - ')"
   ]
  },
  {
   "cell_type": "heading",
   "metadata": {},
   "level": 1,
   "source": [
    "PJ SIMPLES ANEXO III\n"
   ]
  },
  {
   "cell_type": "code",
   "execution_count": 43,
   "metadata": {},
   "outputs": [],
   "source": [
    "faturamento_bruto = [13 * s + s / 3 + fgts_empregador(s) for s in salario_anual_bruto]\n",
    "\n"
   ]
  },
  {
   "cell_type": "code",
   "execution_count": 44,
   "metadata": {},
   "outputs": [
    {
     "data": {
      "text/plain": [
       "[25599.645760000003,\n 38005.38592,\n 50434.25205333333,\n 62718.177493333336,\n 112044.53408,\n 224088.93370666663,\n 336133.3333333333,\n 1120444.53408,\n 11204444.534079999]"
      ]
     },
     "execution_count": 44,
     "metadata": {},
     "output_type": "execute_result"
    }
   ],
   "source": [
    "faturamento_bruto"
   ]
  },
  {
   "cell_type": "code",
   "execution_count": 45,
   "metadata": {},
   "outputs": [],
   "source": [
    "def custos_simples_anexo_iii(faturamento_anual, contador=89, prolabore=1_100) -> float:\n",
    "    \"\"\"\n",
    "    Calcula custos de impostos para empresa simples de anexo III\n",
    "    DAS, Prólabore e Contador\n",
    "    \n",
    "    Aliquotas 2019: https://www.contabilizei.com.br/contabilidade-online/anexo-3-simples-nacional/\n",
    "    :param faturamento_anual: \n",
    "    :param contador: \n",
    "    :param prolabore: \n",
    "    :return: \n",
    "    \"\"\"\n",
    "    saldo = faturamento_anual\n",
    "    aliquotas_faixas = {0.33: 3_600_000, 0.21: 1_800_000, 0.16: 720_000, 0.135: 360_000, 0.112: 180_000, 0.06: 0}\n",
    "    imposto = 0\n",
    "    for aliquota, faixa in aliquotas_faixas.items():\n",
    "        delta = max(saldo - faixa, 0)\n",
    "        imposto += delta * aliquota\n",
    "        saldo = min(saldo, faixa)\n",
    "    inss = prolabore * 0.11\n",
    "    return imposto + 12 * (contador + inss)\n"
   ]
  },
  {
   "cell_type": "code",
   "execution_count": 46,
   "metadata": {},
   "outputs": [],
   "source": [
    "def resumo_pj(faturamento):\n",
    "    custo_anual = custos_simples_anexo_iii(faturamento)\n",
    "    return faturamento / 12, (faturamento - custo_anual) / 12, faturamento, faturamento - custo_anual\n",
    "\n"
   ]
  },
  {
   "cell_type": "code",
   "execution_count": 52,
   "metadata": {},
   "outputs": [
    {
     "name": "stdout",
     "output_type": "stream",
     "text": [
      "2,133.30        - 1,795.31        - 25,599.65       - 21,543.67      \n3,167.12        - 2,767.09        - 38,005.39       - 33,205.06      \n4,202.85        - 3,740.68        - 50,434.25       - 44,888.20      \n5,226.51        - 4,702.92        - 62,718.18       - 56,435.09      \n9,337.04        - 8,566.82        - 112,044.53      - 102,801.86     \n18,674.08       - 17,152.58       - 224,088.93      - 205,830.97     \n28,011.11       - 25,443.87       - 336,133.33      - 305,326.40     \n93,370.38       - 81,191.12       - 1,120,444.53    - 974,293.41     \n933,703.71      - 671,841.49      - 11,204,444.53   - 8,062,097.84   \n"
     ]
    }
   ],
   "source": [
    "for faturamento in faturamento_bruto:\n",
    "    print(*map(lambda v: f'{v:<15,.2f}', resumo_pj(faturamento)), sep=' - ')"
   ]
  },
  {
   "cell_type": "code",
   "execution_count": 51,
   "metadata": {},
   "outputs": [
    {
     "name": "stdout",
     "output_type": "stream",
     "text": [
      "1,903.98        - 1,519.38        - 25,192.19       - 28,035.47      \n2,826.66        - 2,203.77        - 36,702.11       - 40,923.26      \n3,751.06        - 2,762.43        - 47,466.64       - 53,068.22      \n4,664.68        - 3,319.05        - 57,475.60       - 64,441.52      \n8,333.34        - 5,690.94        - 95,982.00       - 108,426.45     \n16,666.67       - 11,372.18       - 183,603.49      - 208,492.39     \n25,000.00       - 17,053.43       - 271,224.98      - 308,558.32     \n83,333.34       - 56,822.19       - 884,575.75      - 1,009,020.20   \n833,333.34      - 568,134.69      - 8,770,513.25    - 10,014,957.70  \n"
     ]
    }
   ],
   "source": [
    "for salario in salario_anual_bruto:\n",
    "    print(*map(lambda v: f'{v:<15,.2f}', resumo_empregado(salario)[:4]), sep=' - ')"
   ]
  },
  {
   "cell_type": "code",
   "execution_count": 122,
   "metadata": {},
   "outputs": [],
   "source": []
  },
  {
   "cell_type": "code",
   "execution_count": null,
   "metadata": {},
   "outputs": [],
   "source": []
  }
 ],
 "metadata": {
  "kernelspec": {
   "display_name": "Python 2",
   "language": "python",
   "name": "python2"
  },
  "language_info": {
   "codemirror_mode": {
    "name": "ipython",
    "version": 2
   },
   "file_extension": ".py",
   "mimetype": "text/x-python",
   "name": "python",
   "nbconvert_exporter": "python",
   "pygments_lexer": "ipython2",
   "version": "2.7.6"
  }
 },
 "nbformat": 4,
 "nbformat_minor": 0
}
