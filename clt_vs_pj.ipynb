{
  "cells": [
    {
      "cell_type": "code",
      "execution_count": 32,
      "outputs": [],
      "source": "salario_mensal_bruto\u003d[1_903.98, 2_826.66, 3_751.06, 4_664.68, 8_333.34, 16_666.67, 25_000, 30_000]\n",
      "metadata": {
        "pycharm": {
          "metadata": false,
          "name": "#%%\n",
          "is_executing": false
        }
      }
    },
    {
      "cell_type": "code",
      "execution_count": 35,
      "metadata": {
        "pycharm": {
          "is_executing": false
        }
      },
      "outputs": [],
      "source": "def mostrar_descontos_mensais(funcao):\n    return [(f\u0027R$ {funcao(salario):,.2f}\u0027, f\u0027{funcao(salario) / salario:.2%}\u0027) for salario in salario_mensal_bruto]"
    },
    {
      "cell_type": "code",
      "execution_count": 34,
      "metadata": {
        "collapsed": true,
        "pycharm": {
          "is_executing": false
        }
      },
      "outputs": [],
      "source": [
        "def imposto_de_renda_mensal(salario_mensal:float) -\u003e float:\n",
        "    \"\"\"\n",
        "    Calcula imposto de renda PF de acordo com faixa do ano de 2019\n",
        "    https://impostoderenda2019.net.br/tabela-imposto-de-renda-2019/\n",
        "    \n",
        "    \"\"\"\n",
        "    saldo \u003d salario_mensal\n",
        "    aliquotas_faixas \u003d {0.275: 4_664.68, 0.225: 3_751.06, 0.15: 2_826.66, 0.075: 1_903.98, 0: 0}\n",
        "    ir \u003d 0\n",
        "    desconto_simplificado \u003d 0.20  # 20% de desconto simplificado\n",
        "    for aliquota, faixa in aliquotas_faixas.items():\n",
        "        delta \u003d max(saldo - faixa, 0)\n",
        "        ir +\u003d delta * aliquota * (1 - desconto_simplificado)\n",
        "        saldo \u003d min(saldo, faixa)\n",
        "    return ir\n"
      ]
    },
    {
      "cell_type": "code",
      "execution_count": 36,
      "metadata": {
        "pycharm": {
          "is_executing": false
        }
      },
      "outputs": [
        {
          "data": {
            "text/plain": "[(\u0027R$ 0.00\u0027, \u00270.00%\u0027),\n (\u0027R$ 55.36\u0027, \u00271.96%\u0027),\n (\u0027R$ 166.29\u0027, \u00274.43%\u0027),\n (\u0027R$ 330.74\u0027, \u00277.09%\u0027),\n (\u0027R$ 1,137.85\u0027, \u002713.65%\u0027),\n (\u0027R$ 2,971.18\u0027, \u002717.83%\u0027),\n (\u0027R$ 4,804.51\u0027, \u002719.22%\u0027),\n (\u0027R$ 5,904.51\u0027, \u002719.68%\u0027)]"
          },
          "metadata": {},
          "output_type": "execute_result",
          "execution_count": 36
        }
      ],
      "source": [
        "mostrar_descontos_mensais(imposto_de_renda_mensal)\n"
      ]
    },
    {
      "cell_type": "code",
      "execution_count": 37,
      "metadata": {
        "pycharm": {
          "is_executing": false
        }
      },
      "outputs": [],
      "source": [
        "def fgts_empregador(salario_mensal: float)-\u003e float:\n",
        "    \"\"\"\n",
        "    Calcula fgts a ser pago de imposto pelo empregador em 1 ano. \n",
        "    Aliquota de 8% + 40% disso em caso de demissão com justa causa -\u003e 11,2%\n",
        "    \n",
        "    \n",
        "    :param salario_mensal: salário mensal bruto do empregado\n",
        "    :return: float\n",
        "    \"\"\"\n",
        "    return salario_mensal * 0.112\n"
      ]
    },
    {
      "cell_type": "code",
      "execution_count": 38,
      "metadata": {
        "pycharm": {
          "is_executing": false
        }
      },
      "outputs": [
        {
          "data": {
            "text/plain": "[(\u0027R$ 213.25\u0027, \u002711.20%\u0027),\n (\u0027R$ 316.59\u0027, \u002711.20%\u0027),\n (\u0027R$ 420.12\u0027, \u002711.20%\u0027),\n (\u0027R$ 522.44\u0027, \u002711.20%\u0027),\n (\u0027R$ 933.33\u0027, \u002711.20%\u0027),\n (\u0027R$ 1,866.67\u0027, \u002711.20%\u0027),\n (\u0027R$ 2,800.00\u0027, \u002711.20%\u0027),\n (\u0027R$ 3,360.00\u0027, \u002711.20%\u0027)]"
          },
          "metadata": {},
          "output_type": "execute_result",
          "execution_count": 38
        }
      ],
      "source": [
        "mostrar_descontos_mensais(fgts_empregador)"
      ]
    },
    {
      "cell_type": "code",
      "execution_count": 39,
      "metadata": {
        "pycharm": {
          "is_executing": false
        }
      },
      "outputs": [],
      "source": [
        "def inss_empregado(salario_mensal):\n",
        "    \"\"\"\n",
        "    Calcula inss para 2019: 1.751,81\n",
        "    :param salario_mensal: \n",
        "    :return: \n",
        "    \"\"\"\n",
        "    teto \u003d 5_839.45\n",
        "    if salario_mensal \u003c 1_751.81:\n",
        "        return salario_mensal * 0.08\n",
        "    elif salario_mensal \u003c 2_919.72:\n",
        "        return salario_mensal * 0.09\n",
        "   \n",
        "    return min(salario_mensal, teto) * 0.11\n"
      ]
    },
    {
      "cell_type": "code",
      "execution_count": 40,
      "metadata": {
        "pycharm": {
          "is_executing": false
        }
      },
      "outputs": [
        {
          "data": {
            "text/plain": "[(\u0027R$ 171.36\u0027, \u00279.00%\u0027),\n (\u0027R$ 254.40\u0027, \u00279.00%\u0027),\n (\u0027R$ 412.62\u0027, \u002711.00%\u0027),\n (\u0027R$ 513.11\u0027, \u002711.00%\u0027),\n (\u0027R$ 642.34\u0027, \u00277.71%\u0027),\n (\u0027R$ 642.34\u0027, \u00273.85%\u0027),\n (\u0027R$ 642.34\u0027, \u00272.57%\u0027),\n (\u0027R$ 642.34\u0027, \u00272.14%\u0027)]"
          },
          "metadata": {},
          "output_type": "execute_result",
          "execution_count": 40
        }
      ],
      "source": [
        "\n",
        "mostrar_descontos_mensais(inss_empregado)"
      ]
    },
    {
      "cell_type": "code",
      "execution_count": 42,
      "metadata": {
        "pycharm": {
          "is_executing": false
        }
      },
      "outputs": [],
      "source": "def imposto_de_renda_anual(salario):\n    \"\"\"\n    Calcula imposto de renda anual considerando Décimo terceiro e terço de ferias\n    :param salario: \n    :return: \n    \"\"\"\n    ir \u003d imposto_de_renda_mensal(salario) * 11\n    salario_de_ferias \u003d salario + salario / 3\n    ir +\u003d imposto_de_renda_mensal(salario_de_ferias - inss_empregado(salario_de_ferias))\n    ir +\u003d imposto_de_renda_mensal(salario - inss_empregado(salario)) / 0.80  # Tributação exlusiva de décimo terceiro\n    return ir\n"
    },
    {
      "cell_type": "code",
      "execution_count": 45,
      "metadata": {
        "pycharm": {
          "is_executing": false
        }
      },
      "outputs": [],
      "source": "def mostrar_descontos_anuais(funcao):\n    salarios \u003d salario_mensal_bruto\n    salarios_anuais \u003d [s * 13 + s / 3 for s in salario_mensal_bruto]\n    for tpl in [\n        (f\u0027Salário Mensal R$ {salario:,.2f}\u0027, f\u0027 Salário Anual R$ {salario_anual:,.2f}\u0027, f\u0027R$ {funcao(salario):,.2f}\u0027, f\u0027{funcao(salario) / salario_anual:.2%}\u0027) for\n        salario,  salario_anual in zip(salarios, salarios_anuais)]:\n        print(*tpl, sep\u003d\u0027 - \u0027)\n"
    },
    {
      "cell_type": "code",
      "execution_count": 46,
      "metadata": {
        "pycharm": {
          "is_executing": false
        }
      },
      "outputs": [
        {
          "name": "stdout",
          "text": [
            "Salário Mensal R$ 1,903.98 -  Salário Anual R$ 25,386.40 - R$ 24.37 - 0.10%\nSalário Mensal R$ 2,826.66 -  Salário Anual R$ 37,688.80 - R$ 777.77 - 2.06%\nSalário Mensal R$ 3,751.06 -  Salário Anual R$ 50,014.13 - R$ 2,267.47 - 4.53%\nSalário Mensal R$ 4,664.68 -  Salário Anual R$ 62,195.73 - R$ 4,467.62 - 7.18%\nSalário Mensal R$ 8,333.34 -  Salário Anual R$ 111,111.20 - R$ 15,369.61 - 13.83%\nSalário Mensal R$ 16,666.67 -  Salário Anual R$ 222,222.27 - R$ 40,272.38 - 18.12%\nSalário Mensal R$ 25,000.00 -  Salário Anual R$ 333,333.33 - R$ 65,175.14 - 19.55%\nSalário Mensal R$ 30,000.00 -  Salário Anual R$ 400,000.00 - R$ 80,116.81 - 20.03%\n"
          ],
          "output_type": "stream"
        }
      ],
      "source": [
        "mostrar_descontos_anuais(imposto_de_renda_anual)"
      ]
    },
    {
      "cell_type": "code",
      "execution_count": 47,
      "metadata": {
        "pycharm": {
          "is_executing": false
        }
      },
      "outputs": [],
      "source": [
        "def inss_anual(salario):\n",
        "    \"\"\"\n",
        "    Calcula valor total decontado do empregado anualmente\n",
        "    :param salario: \n",
        "    :return: \n",
        "    \"\"\"\n",
        "    ONZE_MESES_MAIS_DECIMO_TERCEIRO \u003d 12\n",
        "    inss \u003d inss_empregado(salario) * ONZE_MESES_MAIS_DECIMO_TERCEIRO\n",
        "    salario_ferias \u003d salario + salario / 3\n",
        "    return inss + inss_empregado(salario_ferias)\n"
      ]
    },
    {
      "cell_type": "code",
      "execution_count": 49,
      "metadata": {
        "pycharm": {
          "is_executing": false
        }
      },
      "outputs": [
        {
          "name": "stdout",
          "text": [
            "Salário Mensal R$ 1,903.98 -  Salário Anual R$ 25,386.40 - R$ 2,284.78 - 9.00%\nSalário Mensal R$ 2,826.66 -  Salário Anual R$ 37,688.80 - R$ 3,467.37 - 9.20%\nSalário Mensal R$ 3,751.06 -  Salário Anual R$ 50,014.13 - R$ 5,501.55 - 11.00%\nSalário Mensal R$ 4,664.68 -  Salário Anual R$ 62,195.73 - R$ 6,799.72 - 10.93%\nSalário Mensal R$ 8,333.34 -  Salário Anual R$ 111,111.20 - R$ 8,350.41 - 7.52%\nSalário Mensal R$ 16,666.67 -  Salário Anual R$ 222,222.27 - R$ 8,350.41 - 3.76%\nSalário Mensal R$ 25,000.00 -  Salário Anual R$ 333,333.33 - R$ 8,350.41 - 2.51%\nSalário Mensal R$ 30,000.00 -  Salário Anual R$ 400,000.00 - R$ 8,350.41 - 2.09%\n"
          ],
          "output_type": "stream"
        }
      ],
      "source": [
        "mostrar_descontos_anuais(inss_anual)"
      ]
    },
    {
      "cell_type": "code",
      "execution_count": 27,
      "metadata": {
        "pycharm": {
          "is_executing": false
        }
      },
      "outputs": [],
      "source": [
        "def impostos_anuais(salario):\n",
        "    return imposto_de_renda_anual(salario)+inss_empregado(salario)"
      ]
    },
    {
      "cell_type": "code",
      "execution_count": 54,
      "metadata": {
        "pycharm": {
          "is_executing": false
        }
      },
      "outputs": [],
      "source": "def resumo_empregado(salario):\n    \"\"\"\n    Retorna tupla com (Salario Mensal, Salario Mensal liquido,Salario Anual Liquido, Salario Liquido +fgts,Salario Bruto Anual , Impostos, FGTS, \n    :param funcao: \n    :return: \n    \"\"\"\n\n    salario_anual_bruto \u003d salario * 13 + salario / 3\n    impostos \u003d impostos_anuais(salario)\n    fgts_anual \u003d fgts_empregador(salario)\n    fgts_anual \u003d fgts_anual * 13 + fgts_anual / 3\n    salario_mensal_liquido \u003d salario - imposto_de_renda_mensal(salario) - fgts_empregador(salario) - inss_empregado(salario)\n    salario_anual_menos_impostos \u003d salario_anual_bruto - impostos\n    return salario, salario_mensal_liquido, salario_anual_menos_impostos, salario_anual_menos_impostos + fgts_anual, salario_anual_bruto, impostos, fgts_anual,\n\n"
    },
    {
      "cell_type": "code",
      "execution_count": 57,
      "metadata": {
        "pycharm": {
          "is_executing": false
        }
      },
      "outputs": [
        {
          "name": "stdout",
          "text": [
            "1,903.98        - 1,519.38        - 25,190.67       - 28,033.95       - 25,386.40       - 195.73          - 2,843.28       \n2,826.66        - 2,200.31        - 36,656.63       - 40,877.78       - 37,688.80       - 1,032.17        - 4,221.15       \n3,751.06        - 2,752.04        - 47,334.05       - 52,935.63       - 50,014.13       - 2,680.09        - 5,601.58       \n4,664.68        - 3,298.38        - 57,215.00       - 64,180.92       - 62,195.73       - 4,980.74        - 6,965.92       \n8,333.34        - 5,619.82        - 95,099.25       - 107,543.71      - 111,111.20      - 16,011.95       - 12,444.45      \n16,666.67       - 11,186.49       - 181,307.55      - 206,196.45      - 222,222.27      - 40,914.72       - 24,888.89      \n25,000.00       - 16,753.15       - 267,515.85      - 304,849.18      - 333,333.33      - 65,817.48       - 37,333.33      \n30,000.00       - 20,093.15       - 319,240.85      - 364,040.85      - 400,000.00      - 80,759.15       - 44,800.00      \n"
          ],
          "output_type": "stream"
        }
      ],
      "source": "for salario in salario_mensal_bruto:\n    print(*map(lambda v: f\u0027{v:\u003c15,.2f}\u0027, resumo_empregado(salario)), sep\u003d\u0027 - \u0027)"
    },
    {
      "cell_type": "heading",
      "metadata": {
        "pycharm": {}
      },
      "level": 1,
      "source": [
        "PJ SIMPLES ANEXO III\n"
      ]
    },
    {
      "cell_type": "code",
      "execution_count": 58,
      "metadata": {
        "pycharm": {
          "is_executing": false
        }
      },
      "outputs": [],
      "source": "faturamento_bruto \u003d [13 * s + s / 3 + fgts_empregador(s) for s in salario_mensal_bruto]\n\n"
    },
    {
      "cell_type": "code",
      "execution_count": 62,
      "metadata": {
        "pycharm": {
          "is_executing": false
        }
      },
      "outputs": [
        {
          "data": {
            "text/plain": "[\u002725,599.65\u0027,\n \u002738,005.39\u0027,\n \u002750,434.25\u0027,\n \u002762,718.18\u0027,\n \u0027112,044.53\u0027,\n \u0027224,088.93\u0027,\n \u0027336,133.33\u0027,\n \u0027403,360.00\u0027]"
          },
          "metadata": {},
          "output_type": "execute_result",
          "execution_count": 62
        }
      ],
      "source": "[f\u0027{v:,.2f}\u0027 for v in faturamento_bruto]"
    },
    {
      "cell_type": "code",
      "execution_count": 63,
      "metadata": {
        "pycharm": {
          "is_executing": false
        }
      },
      "outputs": [],
      "source": [
        "def custos_simples_anexo_iii(faturamento_anual, contador\u003d89, prolabore\u003d1_100) -\u003e float:\n",
        "    \"\"\"\n",
        "    Calcula custos de impostos para empresa simples de anexo III\n",
        "    DAS, Prólabore e Contador\n",
        "    \n",
        "    Aliquotas 2019: https://www.contabilizei.com.br/contabilidade-online/anexo-3-simples-nacional/\n",
        "    :param faturamento_anual: \n",
        "    :param contador: \n",
        "    :param prolabore: \n",
        "    :return: \n",
        "    \"\"\"\n",
        "    saldo \u003d faturamento_anual\n",
        "    aliquotas_faixas \u003d {0.33: 3_600_000, 0.21: 1_800_000, 0.16: 720_000, 0.135: 360_000, 0.112: 180_000, 0.06: 0}\n",
        "    imposto \u003d 0\n",
        "    for aliquota, faixa in aliquotas_faixas.items():\n",
        "        delta \u003d max(saldo - faixa, 0)\n",
        "        imposto +\u003d delta * aliquota\n",
        "        saldo \u003d min(saldo, faixa)\n",
        "    inss \u003d prolabore * 0.11\n",
        "    return imposto + 12 * (contador + inss)\n"
      ]
    },
    {
      "cell_type": "code",
      "execution_count": 64,
      "metadata": {
        "pycharm": {
          "is_executing": false
        }
      },
      "outputs": [],
      "source": [
        "def resumo_pj(faturamento):\n",
        "    custo_anual \u003d custos_simples_anexo_iii(faturamento)\n",
        "    return faturamento / 12, (faturamento - custo_anual) / 12, faturamento - custo_anual, faturamento \n",
        "\n"
      ]
    },
    {
      "cell_type": "code",
      "execution_count": 65,
      "metadata": {
        "pycharm": {
          "is_executing": false
        }
      },
      "outputs": [
        {
          "name": "stdout",
          "text": [
            "2,133.30        - 1,795.31        - 21,543.67       - 25,599.65      \n3,167.12        - 2,767.09        - 33,205.06       - 38,005.39      \n4,202.85        - 3,740.68        - 44,888.20       - 50,434.25      \n5,226.51        - 4,702.92        - 56,435.09       - 62,718.18      \n9,337.04        - 8,566.82        - 102,801.86      - 112,044.53     \n18,674.08       - 17,152.58       - 205,830.97      - 224,088.93     \n28,011.11       - 25,443.87       - 305,326.40      - 336,133.33     \n33,613.33       - 30,335.53       - 364,026.40      - 403,360.00     \n"
          ],
          "output_type": "stream"
        }
      ],
      "source": [
        "for faturamento in faturamento_bruto:\n",
        "    print(*map(lambda v: f\u0027{v:\u003c15,.2f}\u0027, resumo_pj(faturamento)), sep\u003d\u0027 - \u0027)"
      ]
    },
    {
      "cell_type": "code",
      "execution_count": 66,
      "metadata": {
        "pycharm": {
          "is_executing": false
        }
      },
      "outputs": [
        {
          "name": "stdout",
          "text": [
            "Salário Mensal 1,903.98\nCLT: R$ 25,190.67      \nPJ: R$ 21,543.67      \nDIFF: R$-3,647.00      \n\nSalário Mensal 2,826.66\nCLT: R$ 36,656.63      \nPJ: R$ 33,205.06      \nDIFF: R$-3,451.57      \n\nSalário Mensal 3,751.06\nCLT: R$ 47,334.05      \nPJ: R$ 44,888.20      \nDIFF: R$-2,445.85      \n\nSalário Mensal 4,664.68\nCLT: R$ 57,215.00      \nPJ: R$ 56,435.09      \nDIFF: R$-779.91        \n\nSalário Mensal 8,333.34\nCLT: R$ 95,099.25      \nPJ: R$ 102,801.86     \nDIFF: R$7,702.61       \n\nSalário Mensal 16,666.67\nCLT: R$ 181,307.55     \nPJ: R$ 205,830.97     \nDIFF: R$24,523.42      \n\nSalário Mensal 25,000.00\nCLT: R$ 267,515.85     \nPJ: R$ 305,326.40     \nDIFF: R$37,810.55      \n\nSalário Mensal 30,000.00\nCLT: R$ 319,240.85     \nPJ: R$ 364,026.40     \nDIFF: R$44,785.55      \n\n"
          ],
          "output_type": "stream"
        }
      ],
      "source": "for salario, faturamento in zip(salario_mensal_bruto, faturamento_bruto):\n    print(f\u0027Salário Mensal {salario:,.2f}\u0027)\n    clt \u003d resumo_empregado(salario)[2]\n    print(f\u0027CLT: R$ {clt :\u003c15,.2f}\u0027, sep\u003d\u0027\u0027)\n    pj \u003d resumo_pj(faturamento)[2]\n    print(f\u0027PJ: R$ {pj :\u003c15,.2f}\u0027)\n    print(f\u0027DIFF: R${pj - clt :\u003c15,.2f}\u0027)\n    print()\n"
    },
    {
      "cell_type": "code",
      "execution_count": null,
      "metadata": {
        "pycharm": {}
      },
      "outputs": [],
      "source": []
    }
  ],
  "metadata": {
    "kernelspec": {
      "display_name": "Python 2",
      "language": "python",
      "name": "python2"
    },
    "language_info": {
      "codemirror_mode": {
        "name": "ipython",
        "version": 2
      },
      "file_extension": ".py",
      "mimetype": "text/x-python",
      "name": "python",
      "nbconvert_exporter": "python",
      "pygments_lexer": "ipython2",
      "version": "2.7.6"
    },
    "stem_cell": {
      "cell_type": "raw",
      "source": "",
      "metadata": {
        "pycharm": {
          "metadata": false
        }
      }
    }
  },
  "nbformat": 4,
  "nbformat_minor": 0
}