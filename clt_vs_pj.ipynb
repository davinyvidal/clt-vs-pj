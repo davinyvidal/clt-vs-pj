{
 "cells": [
  {
   "cell_type": "code",
   "execution_count": 1,
   "metadata": {},
   "outputs": [],
   "source": [
    "def mostrar_descontos_mensais(funcao):\n",
    "    salarios = [1_903.98, 2_826.66, 3_751.06, 4_664.68, 8_333.34, 16_666.67, 25_000, 83_333.34, 833_333.34]\n",
    "    return [(f'R$ {funcao(salario):,.2f}', f'{funcao(salario) / salario:.2%}') for salario in salarios]"
   ]
  },
  {
   "cell_type": "code",
   "execution_count": 2,
   "metadata": {
    "collapsed": true
   },
   "outputs": [],
   "source": [
    "def imposto_de_renda_mensal(salario_mensal:float) -> float:\n",
    "    \"\"\"\n",
    "    Calcula imposto de renda PF de acordo com faixa do ano de 2019\n",
    "    https://impostoderenda2019.net.br/tabela-imposto-de-renda-2019/\n",
    "    \n",
    "    \"\"\"\n",
    "    saldo = salario_mensal\n",
    "    aliquotas_faixas = {0.275: 4_664.68, 0.225: 3_751.06, 0.15: 2_826.66, 0.075: 1_903.98, 0: 0}\n",
    "    ir = 0\n",
    "    desconto_simplificado = 0.20  # 20% de desconto simplificado\n",
    "    for aliquota, faixa in aliquotas_faixas.items():\n",
    "        delta = max(saldo - faixa, 0)\n",
    "        ir += delta * aliquota * (1 - desconto_simplificado)\n",
    "        saldo = min(saldo, faixa)\n",
    "    return ir\n"
   ]
  },
  {
   "cell_type": "code",
   "execution_count": 3,
   "metadata": {},
   "outputs": [
    {
     "data": {
      "text/plain": [
       "[('R$ 0.00', '0.00%'),\n ('R$ 55.36', '1.96%'),\n ('R$ 166.29', '4.43%'),\n ('R$ 330.74', '7.09%'),\n ('R$ 1,137.85', '13.65%'),\n ('R$ 2,971.18', '17.83%'),\n ('R$ 4,804.51', '19.22%'),\n ('R$ 17,637.85', '21.17%'),\n ('R$ 182,637.85', '21.92%')]"
      ]
     },
     "execution_count": 3,
     "metadata": {},
     "output_type": "execute_result"
    }
   ],
   "source": [
    "mostrar_descontos_mensais(imposto_de_renda_mensal)\n"
   ]
  },
  {
   "cell_type": "code",
   "execution_count": 4,
   "metadata": {},
   "outputs": [],
   "source": [
    "def fgts_empregador(salario_mensal: float)-> float:\n",
    "    \"\"\"\n",
    "    Calcula fgts a ser pago de imposto pelo empregador em 1 ano. \n",
    "    Aliquota de 8% + 40% disso em caso de demissão com justa causa -> 11,2%\n",
    "    \n",
    "    \n",
    "    :param salario_mensal: salário mensal bruto do empregado\n",
    "    :return: float\n",
    "    \"\"\"\n",
    "    return salario_mensal * 0.112\n"
   ]
  },
  {
   "cell_type": "code",
   "execution_count": 5,
   "metadata": {},
   "outputs": [
    {
     "data": {
      "text/plain": [
       "[('R$ 213.25', '11.20%'),\n ('R$ 316.59', '11.20%'),\n ('R$ 420.12', '11.20%'),\n ('R$ 522.44', '11.20%'),\n ('R$ 933.33', '11.20%'),\n ('R$ 1,866.67', '11.20%'),\n ('R$ 2,800.00', '11.20%'),\n ('R$ 9,333.33', '11.20%'),\n ('R$ 93,333.33', '11.20%')]"
      ]
     },
     "execution_count": 5,
     "metadata": {},
     "output_type": "execute_result"
    }
   ],
   "source": [
    "mostrar_descontos_mensais(fgts_empregador)"
   ]
  },
  {
   "cell_type": "code",
   "execution_count": 6,
   "metadata": {},
   "outputs": [],
   "source": [
    "def inss_empregado(salario_mensal):\n",
    "    \"\"\"\n",
    "    Calcula inss para 2019: 1.751,81\n",
    "    :param salario_mensal: \n",
    "    :return: \n",
    "    \"\"\"\n",
    "    teto = 5_839.45\n",
    "    if salario_mensal < 1_751.81:\n",
    "        return salario_mensal * 0.08\n",
    "    elif salario_mensal < 2_919.72:\n",
    "        return salario_mensal * 0.09\n",
    "   \n",
    "    return min(salario_mensal, teto) * 0.11\n"
   ]
  },
  {
   "cell_type": "code",
   "execution_count": 7,
   "metadata": {},
   "outputs": [
    {
     "data": {
      "text/plain": [
       "[('R$ 171.36', '9.00%'),\n ('R$ 254.40', '9.00%'),\n ('R$ 412.62', '11.00%'),\n ('R$ 513.11', '11.00%'),\n ('R$ 642.34', '7.71%'),\n ('R$ 642.34', '3.85%'),\n ('R$ 642.34', '2.57%'),\n ('R$ 642.34', '0.77%'),\n ('R$ 642.34', '0.08%')]"
      ]
     },
     "execution_count": 7,
     "metadata": {},
     "output_type": "execute_result"
    }
   ],
   "source": [
    "\n",
    "mostrar_descontos_mensais(inss_empregado)"
   ]
  },
  {
   "cell_type": "code",
   "execution_count": 8,
   "metadata": {},
   "outputs": [],
   "source": [
    "def imposto_de_renda_anual(salario):\n",
    "    \"\"\"\n",
    "    Calcula imposto de renda anual considerando Décimo terceiro e terço de ferias\n",
    "    :param salario: \n",
    "    :return: \n",
    "    \"\"\"\n",
    "    ir = imposto_de_renda_mensal(salario) * 11\n",
    "    salario_de_ferias = salario + salario / 3\n",
    "    ir += imposto_de_renda_mensal(salario_de_ferias - inss_empregado(salario_de_ferias))\n",
    "    ir += imposto_de_renda_mensal(salario - inss_empregado(salario)) / 0.75  # Tributação exlusiva de décimo terceiro\n",
    "    return ir\n"
   ]
  },
  {
   "cell_type": "code",
   "execution_count": 9,
   "metadata": {},
   "outputs": [],
   "source": [
    "def mostrar_descontos_anuais(funcao):\n",
    "    salarios = [1_903.98, 2_826.66, 3_751.06, 4_664.68, 8_333.34, 16_666.67, 25_000, 83_333.34, 833_333.34]\n",
    "    salarios_anuais = [s * 13 + s / 3 for s in salarios]\n",
    "    for tpl in [\n",
    "        (f'Salário Mensal R$ {salario:,.2f}', f' Salário Anual R$ {salario_anual:,.2f}', f'R$ {funcao(salario):,.2f}', f'{funcao(salario) / salario_anual:.2%}') for\n",
    "        salario,  salario_anual in zip(salarios, salarios_anuais)]:\n",
    "        print(*tpl, sep=' - ')\n"
   ]
  },
  {
   "cell_type": "code",
   "execution_count": 10,
   "metadata": {},
   "outputs": [
    {
     "name": "stdout",
     "output_type": "stream",
     "text": [
      "Salário Mensal R$ 1,903.98 -  Salário Anual R$ 25,386.40 - R$ 24.37 - 0.10%\nSalário Mensal R$ 2,826.66 -  Salário Anual R$ 37,688.80 - R$ 781.11 - 2.07%\nSalário Mensal R$ 3,751.06 -  Salário Anual R$ 50,014.13 - R$ 2,277.20 - 4.55%\nSalário Mensal R$ 4,664.68 -  Salário Anual R$ 62,195.73 - R$ 4,487.49 - 7.22%\nSalário Mensal R$ 8,333.34 -  Salário Anual R$ 111,111.20 - R$ 15,452.65 - 13.91%\nSalário Mensal R$ 16,666.67 -  Salário Anual R$ 222,222.27 - R$ 40,508.20 - 18.23%\nSalário Mensal R$ 25,000.00 -  Salário Anual R$ 333,333.33 - R$ 65,563.74 - 19.67%\nSalário Mensal R$ 83,333.34 -  Salário Anual R$ 1,111,111.20 - R$ 240,952.65 - 21.69%\nSalário Mensal R$ 833,333.34 -  Salário Anual R$ 11,111,111.20 - R$ 2,495,952.65 - 22.46%\n"
     ]
    }
   ],
   "source": [
    "mostrar_descontos_anuais(imposto_de_renda_anual)"
   ]
  },
  {
   "cell_type": "code",
   "execution_count": 11,
   "metadata": {},
   "outputs": [],
   "source": [
    "def inss_anual(salario):\n",
    "    \"\"\"\n",
    "    Calcula valor total decontado do empregado anualmente\n",
    "    :param salario: \n",
    "    :return: \n",
    "    \"\"\"\n",
    "    ONZE_MESES_MAIS_DECIMO_TERCEIRO = 12\n",
    "    inss = inss_empregado(salario) * ONZE_MESES_MAIS_DECIMO_TERCEIRO\n",
    "    salario_ferias = salario + salario / 3\n",
    "    return inss + inss_empregado(salario_ferias)\n"
   ]
  },
  {
   "cell_type": "code",
   "execution_count": 12,
   "metadata": {},
   "outputs": [
    {
     "name": "stdout",
     "output_type": "stream",
     "text": [
      "Salário Mensal R$ 1,903.98 -  Salário Anual R$ 25,386.40 - R$ 2,284.78 - 9.00%\nSalário Mensal R$ 2,826.66 -  Salário Anual R$ 37,688.80 - R$ 3,467.37 - 9.20%\nSalário Mensal R$ 3,751.06 -  Salário Anual R$ 50,014.13 - R$ 5,501.55 - 11.00%\nSalário Mensal R$ 4,664.68 -  Salário Anual R$ 62,195.73 - R$ 6,799.72 - 10.93%\nSalário Mensal R$ 8,333.34 -  Salário Anual R$ 111,111.20 - R$ 8,350.41 - 7.52%\nSalário Mensal R$ 16,666.67 -  Salário Anual R$ 222,222.27 - R$ 8,350.41 - 3.76%\nSalário Mensal R$ 25,000.00 -  Salário Anual R$ 333,333.33 - R$ 8,350.41 - 2.51%\nSalário Mensal R$ 83,333.34 -  Salário Anual R$ 1,111,111.20 - R$ 8,350.41 - 0.75%\nSalário Mensal R$ 833,333.34 -  Salário Anual R$ 11,111,111.20 - R$ 8,350.41 - 0.08%\n"
     ]
    }
   ],
   "source": [
    "mostrar_descontos_anuais(inss_anual)"
   ]
  },
  {
   "cell_type": "code",
   "execution_count": 13,
   "metadata": {},
   "outputs": [],
   "source": [
    "def impostos_anuais(salario):\n",
    "    return imposto_de_renda_anual(salario)+inss_empregado(salario)"
   ]
  },
  {
   "cell_type": "code",
   "execution_count": 14,
   "metadata": {},
   "outputs": [],
   "source": [
    "def resumo_empregado(salario):\n",
    "    \"\"\"\n",
    "    Retorna tupla com (Salario Mensal, Salario Mensal liquido,Salario Anual Liquido, Salario Liquido +fgts,Salario Bruto Anual , Impostos, FGTS, \n",
    "    :param funcao: \n",
    "    :return: \n",
    "    \"\"\"\n",
    "\n",
    "    salario_anual_bruto = salario * 13 + salario / 3\n",
    "    impostos = impostos_anuais(salario)\n",
    "    fgts = fgts_empregador(salario)\n",
    "    fgts = fgts * 13 + fgts / 3\n",
    "    salario_mensal_liquido = salario - imposto_de_renda_mensal(salario) - fgts_empregador(salario) - inss_empregado(salario)\n",
    "    return salario, salario_mensal_liquido, salario_anual_bruto - impostos, salario_anual_bruto - impostos + fgts, salario_anual_bruto, impostos, fgts,\n"
   ]
  },
  {
   "cell_type": "code",
   "execution_count": 15,
   "metadata": {},
   "outputs": [],
   "source": [
    "salario_anual_bruto=[1_903.98, 2_826.66, 3_751.06, 4_664.68, 8_333.34, 16_666.67, 25_000, 83_333.34, 833_333.34]"
   ]
  },
  {
   "cell_type": "code",
   "execution_count": 16,
   "metadata": {},
   "outputs": [
    {
     "name": "stdout",
     "output_type": "stream",
     "text": [
      "1,903.98 - 1,519.38 - 25,190.67 - 28,033.95 - 25,386.40 - 195.73 - 2,843.28\n2,826.66 - 2,200.31 - 36,653.29 - 40,874.44 - 37,688.80 - 1,035.51 - 4,221.15\n3,751.06 - 2,752.04 - 47,324.32 - 52,925.90 - 50,014.13 - 2,689.82 - 5,601.58\n4,664.68 - 3,298.38 - 57,195.13 - 64,161.05 - 62,195.73 - 5,000.60 - 6,965.92\n8,333.34 - 5,619.82 - 95,016.21 - 107,460.66 - 111,111.20 - 16,094.99 - 12,444.45\n16,666.67 - 11,186.49 - 181,071.73 - 205,960.62 - 222,222.27 - 41,150.54 - 24,888.89\n25,000.00 - 16,753.15 - 267,127.25 - 304,460.58 - 333,333.33 - 66,206.08 - 37,333.33\n83,333.34 - 55,719.82 - 869,516.21 - 993,960.66 - 1,111,111.20 - 241,594.99 - 124,444.45\n833,333.34 - 556,719.82 - 8,614,516.21 - 9,858,960.66 - 11,111,111.20 - 2,496,594.99 - 1,244,444.45\n"
     ]
    }
   ],
   "source": [
    "for salario in salario_anual_bruto:\n",
    "    print(*map(lambda v: f'{v:,.2f}', resumo_empregado(salario)), sep=' - ')"
   ]
  },
  {
   "cell_type": "heading",
   "metadata": {},
   "level": 1,
   "source": [
    "PJ SIMPLES ANEXO III\n"
   ]
  },
  {
   "cell_type": "code",
   "execution_count": 17,
   "metadata": {},
   "outputs": [],
   "source": [
    "faturamento_bruto = [13 * s + s / 3 + fgts_empregador(s) for s in salario_anual_bruto]\n",
    "\n"
   ]
  },
  {
   "cell_type": "code",
   "execution_count": 18,
   "metadata": {},
   "outputs": [
    {
     "data": {
      "text/plain": [
       "[25599.645760000003,\n 38005.38592,\n 50434.25205333333,\n 62718.177493333336,\n 112044.53408,\n 224088.93370666663,\n 336133.3333333333,\n 1120444.53408,\n 11204444.534079999]"
      ]
     },
     "execution_count": 18,
     "metadata": {},
     "output_type": "execute_result"
    }
   ],
   "source": [
    "faturamento_bruto"
   ]
  },
  {
   "cell_type": "code",
   "execution_count": 19,
   "metadata": {},
   "outputs": [],
   "source": [
    "def custos_simples_anexo_iii(faturamento_anual, contador=89, prolabore=1_100) -> float:\n",
    "    \"\"\"\n",
    "    Calcula custos de impostos para empresa simples de anexo III\n",
    "    DAS, Prólabore e Contador\n",
    "    \n",
    "    Aliquotas 2019: https://www.contabilizei.com.br/contabilidade-online/anexo-3-simples-nacional/\n",
    "    :param faturamento_anual: \n",
    "    :param contador: \n",
    "    :param prolabore: \n",
    "    :return: \n",
    "    \"\"\"\n",
    "    saldo = faturamento_anual\n",
    "    aliquotas_faixas = {0.33: 3_600_000, 0.21: 1_800_000, 0.16: 720_000, 0.135: 360_000, 0.112: 180_000, 0.06: 0}\n",
    "    imposto = 0\n",
    "    for aliquota, faixa in aliquotas_faixas.items():\n",
    "        delta = max(saldo - faixa, 0)\n",
    "        imposto += delta * aliquota\n",
    "        saldo = min(saldo, faixa)\n",
    "    inss = prolabore * 0.11\n",
    "    return imposto + 12 * (contador + inss)\n"
   ]
  },
  {
   "cell_type": "code",
   "execution_count": 20,
   "metadata": {},
   "outputs": [],
   "source": [
    "def resumo_pj(faturamento):\n",
    "    custo_anual = custos_simples_anexo_iii(faturamento)\n",
    "    return faturamento / 12, (faturamento - custo_anual) / 12, faturamento, faturamento - custo_anual\n",
    "\n"
   ]
  },
  {
   "cell_type": "code",
   "execution_count": 21,
   "metadata": {},
   "outputs": [
    {
     "name": "stdout",
     "output_type": "stream",
     "text": [
      "2,133.30        - 1,795.31        - 25,599.65       - 21,543.67      \n3,167.12        - 2,767.09        - 38,005.39       - 33,205.06      \n4,202.85        - 3,740.68        - 50,434.25       - 44,888.20      \n5,226.51        - 4,702.92        - 62,718.18       - 56,435.09      \n9,337.04        - 8,566.82        - 112,044.53      - 102,801.86     \n18,674.08       - 17,152.58       - 224,088.93      - 205,830.97     \n28,011.11       - 25,443.87       - 336,133.33      - 305,326.40     \n93,370.38       - 81,191.12       - 1,120,444.53    - 974,293.41     \n933,703.71      - 671,841.49      - 11,204,444.53   - 8,062,097.84   \n"
     ]
    }
   ],
   "source": [
    "for faturamento in faturamento_bruto:\n",
    "    print(*map(lambda v: f'{v:<15,.2f}', resumo_pj(faturamento)), sep=' - ')"
   ]
  },
  {
   "cell_type": "code",
   "execution_count": 23,
   "metadata": {},
   "outputs": [
    {
     "name": "stdout",
     "output_type": "stream",
     "text": [
      "Salário Mensal 1,903.98\nCLT: R$ 25,190.67      \nPJ: R$ 25,599.65      \nDIFF: R$408.97         \n\nSalário Mensal 2,826.66\nCLT: R$ 36,653.29      \nPJ: R$ 38,005.39      \nDIFF: R$1,352.09       \n\nSalário Mensal 3,751.06\nCLT: R$ 47,324.32      \nPJ: R$ 50,434.25      \nDIFF: R$3,109.94       \n\nSalário Mensal 4,664.68\nCLT: R$ 57,195.13      \nPJ: R$ 62,718.18      \nDIFF: R$5,523.05       \n\nSalário Mensal 8,333.34\nCLT: R$ 95,016.21      \nPJ: R$ 112,044.53     \nDIFF: R$17,028.33      \n\nSalário Mensal 16,666.67\nCLT: R$ 181,071.73     \nPJ: R$ 224,088.93     \nDIFF: R$43,017.20      \n\nSalário Mensal 25,000.00\nCLT: R$ 267,127.25     \nPJ: R$ 336,133.33     \nDIFF: R$69,006.08      \n\nSalário Mensal 83,333.34\nCLT: R$ 869,516.21     \nPJ: R$ 1,120,444.53   \nDIFF: R$250,928.33     \n\nSalário Mensal 833,333.34\nCLT: R$ 8,614,516.21   \nPJ: R$ 11,204,444.53  \nDIFF: R$2,589,928.33   \n\n"
     ]
    }
   ],
   "source": [
    "for salario, faturamento in zip(salario_anual_bruto, faturamento_bruto):\n",
    "    print(f'Salário Mensal {salario:,.2f}')\n",
    "    clt = resumo_empregado(salario)[2]\n",
    "    print(f'CLT: R$ {clt :<15,.2f}', sep='')\n",
    "    pj = resumo_pj(faturamento)[2]\n",
    "    print(f'PJ: R$ {pj :<15,.2f}')\n",
    "    print(f'DIFF: R${pj - clt :<15,.2f}')\n",
    "    print()\n"
   ]
  },
  {
   "cell_type": "code",
   "execution_count": null,
   "metadata": {},
   "outputs": [],
   "source": []
  }
 ],
 "metadata": {
  "kernelspec": {
   "display_name": "Python 2",
   "language": "python",
   "name": "python2"
  },
  "language_info": {
   "codemirror_mode": {
    "name": "ipython",
    "version": 2
   },
   "file_extension": ".py",
   "mimetype": "text/x-python",
   "name": "python",
   "nbconvert_exporter": "python",
   "pygments_lexer": "ipython2",
   "version": "2.7.6"
  }
 },
 "nbformat": 4,
 "nbformat_minor": 0
}
